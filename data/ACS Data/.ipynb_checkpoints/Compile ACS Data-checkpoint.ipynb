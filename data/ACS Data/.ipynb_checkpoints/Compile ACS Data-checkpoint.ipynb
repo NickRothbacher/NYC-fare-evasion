{
 "cells": [
  {
   "cell_type": "code",
   "execution_count": 1,
   "metadata": {},
   "outputs": [],
   "source": [
    "import pandas as pd"
   ]
  },
  {
   "cell_type": "code",
   "execution_count": 39,
   "metadata": {},
   "outputs": [],
   "source": [
    "def load_json(filename):\n",
    "    with open(filename, 'r') as handle:\n",
    "        res = pd.read_json(path_or_buf = handle, orient = 'values')\n",
    "        res.columns = res.iloc[0]\n",
    "        res = res.drop(0, axis=0).reset_index().drop('index', axis=1)\n",
    "\n",
    "    return res"
   ]
  },
  {
   "cell_type": "code",
   "execution_count": 73,
   "metadata": {},
   "outputs": [],
   "source": [
    "race_var_key = pd.read_csv('Race variable key.csv').set_index('Name')"
   ]
  },
  {
   "cell_type": "code",
   "execution_count": 96,
   "metadata": {},
   "outputs": [],
   "source": [
    "raceBX = load_json('BX_race.json')\n",
    "#drop annotation type entries, these have no values\n",
    "for column in raceBX.columns:\n",
    "    if column[-1:] == 'A':\n",
    "        raceBX = raceBX.drop(column, axis=1 )\n",
    "\n",
    "raceBX = raceBX.rename(race_var_key.to_dict()['Label'], axis=1)\n",
    "\n",
    "raceBK = load_json('BK_race.json')\n",
    "#drop annotation type entries, these have no values\n",
    "for column in raceBK.columns:\n",
    "    if column[-1:] == 'A':\n",
    "        raceBK = raceBK.drop(column, axis=1 )\n",
    "\n",
    "raceBK = raceBK.rename(race_var_key.to_dict()['Label'], axis=1)\n",
    "\n",
    "raceMH = load_json('MH_race.json')\n",
    "#drop annotation type entries, these have no values\n",
    "for column in raceMH.columns:\n",
    "    if column[-1:] == 'A':\n",
    "        raceMH = raceMH.drop(column, axis=1 )\n",
    "\n",
    "raceMH = raceMH.rename(race_var_key.to_dict()['Label'], axis=1)\n",
    "\n",
    "raceQN = load_json('QN_race.json')\n",
    "#drop annotation type entries, these have no values\n",
    "for column in raceQN.columns:\n",
    "    if column[-1:] == 'A':\n",
    "        raceQN = raceQN.drop(column, axis=1 )\n",
    "\n",
    "raceQN = raceQN.rename(race_var_key.to_dict()['Label'], axis=1)\n",
    "\n",
    "raceSI = load_json('SI_race.json')\n",
    "#drop annotation type entries, these have no values\n",
    "for column in raceSI.columns:\n",
    "    if column[-1:] == 'A':\n",
    "        raceSI = raceSI.drop(column, axis=1 )\n",
    "\n",
    "raceSI = raceSI.rename(race_var_key.to_dict()['Label'], axis=1)"
   ]
  },
  {
   "cell_type": "code",
   "execution_count": 97,
   "metadata": {},
   "outputs": [],
   "source": [
    "raceALL = pd.concat([raceBK, raceBX, raceMH, raceQN, raceSI], ignore_index = True)"
   ]
  },
  {
   "cell_type": "code",
   "execution_count": 105,
   "metadata": {},
   "outputs": [
    {
     "data": {
      "text/plain": [
       "True"
      ]
     },
     "execution_count": 105,
     "metadata": {},
     "output_type": "execute_result"
    }
   ],
   "source": [
    "raceALL.shape[0] == raceBK.shape[0]+ raceBX.shape[0] + raceMH.shape[0] + raceQN.shape[0] + raceSI.shape[0]"
   ]
  },
  {
   "cell_type": "code",
   "execution_count": 106,
   "metadata": {},
   "outputs": [
    {
     "data": {
      "text/plain": [
       "Index(['GEO_ID', 'Est: Total', 'MoE: Total', 'Est: Total: White alone',\n",
       "       'MoE: Total: White alone',\n",
       "       'Est: Total: Black or African American alone',\n",
       "       'MoE: Total: Black or African American alone',\n",
       "       'Est: Total: American Indian and Alaska Native alone',\n",
       "       'MoE: Total: American Indian and Alaska Native alone',\n",
       "       'Est: Total: Asian alone', 'MoE: Total: Asian alone',\n",
       "       'Est: Total: Native Hawaiian and Other Pacific Islander alone',\n",
       "       'MoE: Total: Native Hawaiian and Other Pacific Islander alone',\n",
       "       'Est: Total: Some other race alone',\n",
       "       'MoE: Total: Some other race alone', 'Est: Total: Two or more races',\n",
       "       'MoE: Total: Two or more races',\n",
       "       'Est: Total: Two or more races: Two races including Some other race',\n",
       "       'MoE: Total: Two or more races: Two races including Some other race',\n",
       "       'Est: Total: Two or more races: Two races excluding Some other race, and three or more races',\n",
       "       'MoE: Total: Two or more races: Two races excluding Some other race, and three or more races',\n",
       "       'NAME', 'state', 'county', 'tract'],\n",
       "      dtype='object', name=0)"
      ]
     },
     "execution_count": 106,
     "metadata": {},
     "output_type": "execute_result"
    }
   ],
   "source": [
    "raceALL"
   ]
  },
  {
   "cell_type": "code",
   "execution_count": 107,
   "metadata": {},
   "outputs": [],
   "source": [
    "hisp_var_key = pd.read_csv('Hispanic variable key.csv').set_index('Name')"
   ]
  },
  {
   "cell_type": "code",
   "execution_count": 112,
   "metadata": {},
   "outputs": [],
   "source": [
    "hispBX = load_json('BX_hisp.json')\n",
    "#drop annotation type entries, these have no values\n",
    "for column in hispBX.columns:\n",
    "    if column[-1:] == 'A':\n",
    "        hispBX = hispBX.drop(column, axis=1 )\n",
    "\n",
    "hispBX = hispBX.rename(hisp_var_key.to_dict()['Label'], axis=1)\n",
    "\n",
    "hispBK = load_json('BK_hisp.json')\n",
    "#drop annotation type entries, these have no values\n",
    "for column in hispBK.columns:\n",
    "    if column[-1:] == 'A':\n",
    "        hispBK = hispBK.drop(column, axis=1 )\n",
    "\n",
    "hispBK = hispBK.rename(hisp_var_key.to_dict()['Label'], axis=1)\n",
    "\n",
    "hispMH = load_json('MH_hisp.json')\n",
    "#drop annotation type entries, these have no values\n",
    "for column in hispMH.columns:\n",
    "    if column[-1:] == 'A':\n",
    "        hispMH = hispMH.drop(column, axis=1 )\n",
    "\n",
    "hispMH = hispMH.rename(hisp_var_key.to_dict()['Label'], axis=1)\n",
    "\n",
    "hispQN = load_json('QN_hisp.json')\n",
    "#drop annotation type entries, these have no values\n",
    "for column in hispQN.columns:\n",
    "    if column[-1:] == 'A':\n",
    "        hispQN = hispQN.drop(column, axis=1 )\n",
    "\n",
    "hispQN = hispQN.rename(hisp_var_key.to_dict()['Label'], axis=1)\n",
    "\n",
    "hispSI = load_json('SI_hisp.json')\n",
    "#drop annotation type entries, these have no values\n",
    "for column in hispSI.columns:\n",
    "    if column[-1:] == 'A':\n",
    "        hispSI = hispSI.drop(column, axis=1 )\n",
    "\n",
    "hispSI = hispSI.rename(hisp_var_key.to_dict()['Label'], axis=1)"
   ]
  },
  {
   "cell_type": "code",
   "execution_count": 113,
   "metadata": {},
   "outputs": [],
   "source": [
    "hispALL = pd.concat([hispBK, hispBX, hispMH, hispQN, hispSI], ignore_index = True)"
   ]
  },
  {
   "cell_type": "code",
   "execution_count": 115,
   "metadata": {},
   "outputs": [
    {
     "data": {
      "text/plain": [
       "True"
      ]
     },
     "execution_count": 115,
     "metadata": {},
     "output_type": "execute_result"
    }
   ],
   "source": [
    "hispALL.shape[0] == hispBK.shape[0]+ hispBX.shape[0] + hispMH.shape[0] + hispQN.shape[0] + hispSI.shape[0]"
   ]
  },
  {
   "cell_type": "code",
   "execution_count": null,
   "metadata": {},
   "outputs": [],
   "source": [
    "pov_var_key = pd.read_csv('Poverty variable key.csv').set_index('Name')"
   ]
  },
  {
   "cell_type": "code",
   "execution_count": null,
   "metadata": {},
   "outputs": [],
   "source": [
    "povpBX = load_json('BX_poverty.json')\n",
    "#drop annotation type entries, these have no values\n",
    "for column in hispBX.columns:\n",
    "    if column[-1:] == 'A':\n",
    "        hispBX = hispBX.drop(column, axis=1 )\n",
    "\n",
    "hispBX = hispBX.rename(hisp_var_key.to_dict()['Label'], axis=1)\n",
    "\n",
    "hispBK = load_json('BK_hisp.json')\n",
    "#drop annotation type entries, these have no values\n",
    "for column in hispBK.columns:\n",
    "    if column[-1:] == 'A':\n",
    "        hispBK = hispBK.drop(column, axis=1 )\n",
    "\n",
    "hispBK = hispBK.rename(hisp_var_key.to_dict()['Label'], axis=1)\n",
    "\n",
    "hispMH = load_json('MH_hisp.json')\n",
    "#drop annotation type entries, these have no values\n",
    "for column in hispMH.columns:\n",
    "    if column[-1:] == 'A':\n",
    "        hispMH = hispMH.drop(column, axis=1 )\n",
    "\n",
    "hispMH = hispMH.rename(hisp_var_key.to_dict()['Label'], axis=1)\n",
    "\n",
    "hispQN = load_json('QN_hisp.json')\n",
    "#drop annotation type entries, these have no values\n",
    "for column in hispQN.columns:\n",
    "    if column[-1:] == 'A':\n",
    "        hispQN = hispQN.drop(column, axis=1 )\n",
    "\n",
    "hispQN = hispQN.rename(hisp_var_key.to_dict()['Label'], axis=1)\n",
    "\n",
    "hispSI = load_json('SI_hisp.json')\n",
    "#drop annotation type entries, these have no values\n",
    "for column in hispSI.columns:\n",
    "    if column[-1:] == 'A':\n",
    "        hispSI = hispSI.drop(column, axis=1 )\n",
    "\n",
    "hispSI = hispSI.rename(hisp_var_key.to_dict()['Label'], axis=1)"
   ]
  }
 ],
 "metadata": {
  "kernelspec": {
   "display_name": "Python 3",
   "language": "python",
   "name": "python3"
  },
  "language_info": {
   "codemirror_mode": {
    "name": "ipython",
    "version": 3
   },
   "file_extension": ".py",
   "mimetype": "text/x-python",
   "name": "python",
   "nbconvert_exporter": "python",
   "pygments_lexer": "ipython3",
   "version": "3.7.3"
  }
 },
 "nbformat": 4,
 "nbformat_minor": 2
}
