{
 "cells": [
  {
   "cell_type": "code",
   "execution_count": null,
   "metadata": {},
   "outputs": [],
   "source": []
  },
  {
   "cell_type": "code",
   "execution_count": 6,
   "metadata": {},
   "outputs": [],
   "source": [
    "import pandas as pd\n",
    "import geopandas as gpd\n",
    "#import geoplot\n",
    "from shapely.geometry import Point\n",
    "from shapely.ops import nearest_points\n",
    "from math import *\n",
    "import seaborn as sns\n",
    "import matplotlib.pyplot as plt"
   ]
  },
  {
   "cell_type": "code",
   "execution_count": 2,
   "metadata": {},
   "outputs": [],
   "source": [
    "arrests  = pd.read_csv('../data/Fare Evasion Arrests.csv')\n"
   ]
  },
  {
   "cell_type": "code",
   "execution_count": 3,
   "metadata": {},
   "outputs": [],
   "source": [
    "gp_arrests = gpd.GeoDataFrame(arrests[['ARREST_KEY', 'Latitude', 'Longitude', 'JURISDICTION_CODE']], geometry= [Point(x, y) for x, y in zip(arrests.Longitude, arrests.Latitude)])"
   ]
  },
  {
   "cell_type": "code",
   "execution_count": 7,
   "metadata": {},
   "outputs": [],
   "source": [
    "stations = gpd.read_file('../data/Subway Stations/geo_export_d1cef8bd-bb80-491b-983e-fc4b3e3aab4f.shp')"
   ]
  },
  {
   "cell_type": "code",
   "execution_count": 8,
   "metadata": {},
   "outputs": [],
   "source": [
    "unary = stations.geometry.unary_union"
   ]
  },
  {
   "cell_type": "code",
   "execution_count": 9,
   "metadata": {},
   "outputs": [],
   "source": [
    "#https://gis.stackexchange.com/questions/222315/geopandas-find-nearest-point-in-other-dataframe\n",
    "def dist_nearest_station(point, pts=unary):\n",
    "     # find the nearest station and return the corresponding distance to that station\n",
    "    nearest = stations.geometry == nearest_points(point, pts)[1]\n",
    "    \n",
    "    \n",
    "    longs = stations[nearest].iloc[0].geometry.x\n",
    "    lats = stations[nearest].iloc[0].geometry.y\n",
    "    longp = point.x\n",
    "    latp = point.y\n",
    "    \n",
    "    return haversine(longs, lats, longp, latp)\n",
    "\n",
    "def haversine(lon1, lat1, lon2, lat2):\n",
    "    \"\"\"\n",
    "    Calculate the great circle distance between two points \n",
    "    on the earth (specified in decimal degrees)\n",
    "    \"\"\"\n",
    "    # convert decimal degrees to radians \n",
    "    lon1, lat1, lon2, lat2 = map(radians, [lon1, lat1, lon2, lat2])\n",
    "\n",
    "    # haversine formula \n",
    "    dlon = lon2 - lon1 \n",
    "    dlat = lat2 - lat1 \n",
    "    a = sin(dlat/2)**2 + cos(lat1) * cos(lat2) * sin(dlon/2)**2\n",
    "    c = 2 * asin(sqrt(a)) \n",
    "    r = 6371 # Radius of earth in km. Use 3956 for miles\n",
    "    \n",
    "    return c * r *1000 #conver to m"
   ]
  },
  {
   "cell_type": "code",
   "execution_count": 10,
   "metadata": {},
   "outputs": [],
   "source": [
    "sample = gp_arrests.sample(10)"
   ]
  },
  {
   "cell_type": "code",
   "execution_count": 11,
   "metadata": {
    "scrolled": true
   },
   "outputs": [],
   "source": [
    "#this can take a while\n",
    "gp_arrests['DistToStation'] = gp_arrests.apply(lambda row: dist_nearest_station(row.geometry), axis=1)"
   ]
  },
  {
   "cell_type": "code",
   "execution_count": 5,
   "metadata": {},
   "outputs": [
    {
     "data": {
      "text/html": [
       "<div>\n",
       "<style scoped>\n",
       "    .dataframe tbody tr th:only-of-type {\n",
       "        vertical-align: middle;\n",
       "    }\n",
       "\n",
       "    .dataframe tbody tr th {\n",
       "        vertical-align: top;\n",
       "    }\n",
       "\n",
       "    .dataframe thead th {\n",
       "        text-align: right;\n",
       "    }\n",
       "</style>\n",
       "<table border=\"1\" class=\"dataframe\">\n",
       "  <thead>\n",
       "    <tr style=\"text-align: right;\">\n",
       "      <th></th>\n",
       "      <th>ARREST_KEY</th>\n",
       "      <th>Latitude</th>\n",
       "      <th>Longitude</th>\n",
       "      <th>JURISDICTION_CODE</th>\n",
       "      <th>geometry</th>\n",
       "    </tr>\n",
       "  </thead>\n",
       "  <tbody>\n",
       "    <tr>\n",
       "      <th>0</th>\n",
       "      <td>173114463</td>\n",
       "      <td>40.769437</td>\n",
       "      <td>-73.910241</td>\n",
       "      <td>0.0</td>\n",
       "      <td>POINT (-73.91024 40.76944)</td>\n",
       "    </tr>\n",
       "    <tr>\n",
       "      <th>1</th>\n",
       "      <td>173113521</td>\n",
       "      <td>40.773650</td>\n",
       "      <td>-73.959857</td>\n",
       "      <td>1.0</td>\n",
       "      <td>POINT (-73.95986 40.77365)</td>\n",
       "    </tr>\n",
       "    <tr>\n",
       "      <th>2</th>\n",
       "      <td>173114460</td>\n",
       "      <td>40.792167</td>\n",
       "      <td>-73.969896</td>\n",
       "      <td>0.0</td>\n",
       "      <td>POINT (-73.96990 40.79217)</td>\n",
       "    </tr>\n",
       "    <tr>\n",
       "      <th>3</th>\n",
       "      <td>173114446</td>\n",
       "      <td>40.819702</td>\n",
       "      <td>-73.901603</td>\n",
       "      <td>1.0</td>\n",
       "      <td>POINT (-73.90160 40.81970)</td>\n",
       "    </tr>\n",
       "    <tr>\n",
       "      <th>4</th>\n",
       "      <td>173093896</td>\n",
       "      <td>40.866076</td>\n",
       "      <td>-73.894376</td>\n",
       "      <td>1.0</td>\n",
       "      <td>POINT (-73.89438 40.86608)</td>\n",
       "    </tr>\n",
       "  </tbody>\n",
       "</table>\n",
       "</div>"
      ],
      "text/plain": [
       "   ARREST_KEY   Latitude  Longitude  JURISDICTION_CODE  \\\n",
       "0   173114463  40.769437 -73.910241                0.0   \n",
       "1   173113521  40.773650 -73.959857                1.0   \n",
       "2   173114460  40.792167 -73.969896                0.0   \n",
       "3   173114446  40.819702 -73.901603                1.0   \n",
       "4   173093896  40.866076 -73.894376                1.0   \n",
       "\n",
       "                     geometry  \n",
       "0  POINT (-73.91024 40.76944)  \n",
       "1  POINT (-73.95986 40.77365)  \n",
       "2  POINT (-73.96990 40.79217)  \n",
       "3  POINT (-73.90160 40.81970)  \n",
       "4  POINT (-73.89438 40.86608)  "
      ]
     },
     "execution_count": 5,
     "metadata": {},
     "output_type": "execute_result"
    }
   ],
   "source": [
    "gp_arrests.head()"
   ]
  },
  {
   "cell_type": "code",
   "execution_count": 12,
   "metadata": {},
   "outputs": [
    {
     "data": {
      "text/plain": [
       "count    2.922670e+05\n",
       "mean     2.533520e+03\n",
       "std      4.634656e+04\n",
       "min      1.753994e-01\n",
       "25%      2.049044e+01\n",
       "50%      5.074656e+01\n",
       "75%      1.091894e+02\n",
       "max      2.355108e+06\n",
       "Name: DistToStation, dtype: float64"
      ]
     },
     "execution_count": 12,
     "metadata": {},
     "output_type": "execute_result"
    }
   ],
   "source": [
    "#some very large distances here, thousands of km, lets get rid of some outliers\n",
    "gp_arrests.DistToStation.describe()"
   ]
  },
  {
   "cell_type": "code",
   "execution_count": 146,
   "metadata": {},
   "outputs": [
    {
     "data": {
      "text/plain": [
       "<matplotlib.axes._subplots.AxesSubplot at 0x1bea7657198>"
      ]
     },
     "execution_count": 146,
     "metadata": {},
     "output_type": "execute_result"
    },
    {
     "data": {
      "image/png": "[encoded data removed]",
      "text/plain": [
       "<Figure size 432x288 with 1 Axes>"
      ]
     },
     "metadata": {
      "needs_background": "light"
     },
     "output_type": "display_data"
    }
   ],
   "source": [
    "sns.distplot(gp_arrests.DistToStation)"
   ]
  },
  {
   "cell_type": "code",
   "execution_count": 147,
   "metadata": {},
   "outputs": [],
   "source": [
    "def find_outliers(df_series, multiple_IQR):\n",
    "    \"\"\"\n",
    "    For a series of numerical values, remove the zeros and identify the upper outliers \n",
    "    to return a mask for all outliers in series\n",
    "    \"\"\"\n",
    "    non_zeros = df_series.replace(0, None)\n",
    "    \n",
    "    adjusted_IQR = (non_zeros.quantile(.75) - non_zeros.quantile(.25)) * multiple_IQR\n",
    "    outlier_lim = non_zeros.quantile(.75) + adjusted_IQR\n",
    "    print(outlier_lim)\n",
    "    \n",
    "    outliers = [True if x > outlier_lim else False for x in df_series]\n",
    "    \n",
    "    outlier_count = sum(outliers)\n",
    "    all_data_count = len(df_series)\n",
    "    print('{} outliers identified: {} of all data'.format(outlier_count, round(outlier_count/all_data_count,6)))\n",
    "    \n",
    "    return outliers"
   ]
  },
  {
   "cell_type": "code",
   "execution_count": 149,
   "metadata": {},
   "outputs": [
    {
     "name": "stdout",
     "output_type": "stream",
     "text": [
      "All Data Len: 292267\n",
      "Outliers greater than\n",
      "1883.168983574281\n",
      "2399 outliers identified: 0.008208 of all data\n",
      "Excluding Outliers Len: 289868\n",
      "Keeping 0.991792\n"
     ]
    }
   ],
   "source": [
    "print('All Data Len:', len(gp_arrests))\n",
    "print('Outliers greater than')\n",
    "gp_arrests['outliers'] = find_outliers(gp_arrests['DistToStation'], 20)\n",
    "\n",
    "#delete these outliers detected here\n",
    "clean_df = gp_arrests.loc[(~gp_arrests['outliers'])].copy()\n",
    "print('Excluding Outliers Len:', len(clean_df))\n",
    "\n",
    "print('Keeping', round(len(clean_df)/len(gp_arrests), 6))"
   ]
  },
  {
   "cell_type": "code",
   "execution_count": 151,
   "metadata": {},
   "outputs": [
    {
     "data": {
      "text/plain": [
       "count    289868.000000\n",
       "mean         98.507037\n",
       "std         173.509672\n",
       "min           0.175399\n",
       "25%          20.490441\n",
       "50%          50.480662\n",
       "75%         107.826143\n",
       "max        1865.959429\n",
       "Name: DistToStation, dtype: float64"
      ]
     },
     "execution_count": 151,
     "metadata": {},
     "output_type": "execute_result"
    }
   ],
   "source": [
    "clean_df.DistToStation.describe()"
   ]
  },
  {
   "cell_type": "code",
   "execution_count": 156,
   "metadata": {},
   "outputs": [
    {
     "data": {
      "text/plain": [
       "Text(0.5, 1.0, 'Distribution of Arrest Distances from Nearest Subway Stop')"
      ]
     },
     "execution_count": 156,
     "metadata": {},
     "output_type": "execute_result"
    },
    {
     "data": {
      "image/png": "[encoded data removed]",
      "text/plain": [
       "<Figure size 432x288 with 1 Axes>"
      ]
     },
     "metadata": {
      "needs_background": "light"
     },
     "output_type": "display_data"
    }
   ],
   "source": [
    "ax = sns.distplot(clean_df.DistToStation, kde=False)\n",
    "ax.set_xlabel('Distance to Nearest Station (meters)')\n",
    "ax.set_title('Distribution of Arrest Distances from Nearest Subway Stop')"
   ]
  },
  {
   "cell_type": "code",
   "execution_count": 160,
   "metadata": {},
   "outputs": [
    {
     "data": {
      "text/html": [
       "<div>\n",
       "<style scoped>\n",
       "    .dataframe tbody tr th:only-of-type {\n",
       "        vertical-align: middle;\n",
       "    }\n",
       "\n",
       "    .dataframe tbody tr th {\n",
       "        vertical-align: top;\n",
       "    }\n",
       "\n",
       "    .dataframe thead th {\n",
       "        text-align: right;\n",
       "    }\n",
       "</style>\n",
       "<table border=\"1\" class=\"dataframe\">\n",
       "  <thead>\n",
       "    <tr style=\"text-align: right;\">\n",
       "      <th></th>\n",
       "      <th>count</th>\n",
       "      <th>mean</th>\n",
       "      <th>std</th>\n",
       "      <th>min</th>\n",
       "      <th>25%</th>\n",
       "      <th>50%</th>\n",
       "      <th>75%</th>\n",
       "      <th>max</th>\n",
       "    </tr>\n",
       "    <tr>\n",
       "      <th>JURISDICTION_CODE</th>\n",
       "      <th></th>\n",
       "      <th></th>\n",
       "      <th></th>\n",
       "      <th></th>\n",
       "      <th></th>\n",
       "      <th></th>\n",
       "      <th></th>\n",
       "      <th></th>\n",
       "    </tr>\n",
       "  </thead>\n",
       "  <tbody>\n",
       "    <tr>\n",
       "      <th>0.0</th>\n",
       "      <td>54698.0</td>\n",
       "      <td>176.486103</td>\n",
       "      <td>282.120329</td>\n",
       "      <td>0.175399</td>\n",
       "      <td>25.423231</td>\n",
       "      <td>73.292449</td>\n",
       "      <td>163.013273</td>\n",
       "      <td>1865.959429</td>\n",
       "    </tr>\n",
       "    <tr>\n",
       "      <th>1.0</th>\n",
       "      <td>232692.0</td>\n",
       "      <td>79.073661</td>\n",
       "      <td>127.517247</td>\n",
       "      <td>0.175399</td>\n",
       "      <td>19.196627</td>\n",
       "      <td>44.166636</td>\n",
       "      <td>95.568448</td>\n",
       "      <td>1796.424857</td>\n",
       "    </tr>\n",
       "    <tr>\n",
       "      <th>2.0</th>\n",
       "      <td>713.0</td>\n",
       "      <td>342.570744</td>\n",
       "      <td>320.165804</td>\n",
       "      <td>0.556049</td>\n",
       "      <td>73.620872</td>\n",
       "      <td>283.440122</td>\n",
       "      <td>466.723979</td>\n",
       "      <td>1836.848883</td>\n",
       "    </tr>\n",
       "    <tr>\n",
       "      <th>3.0</th>\n",
       "      <td>545.0</td>\n",
       "      <td>187.734153</td>\n",
       "      <td>150.795000</td>\n",
       "      <td>5.956947</td>\n",
       "      <td>101.335296</td>\n",
       "      <td>132.607594</td>\n",
       "      <td>228.890162</td>\n",
       "      <td>943.373780</td>\n",
       "    </tr>\n",
       "    <tr>\n",
       "      <th>4.0</th>\n",
       "      <td>2.0</td>\n",
       "      <td>880.714634</td>\n",
       "      <td>1092.006118</td>\n",
       "      <td>108.549703</td>\n",
       "      <td>494.632169</td>\n",
       "      <td>880.714634</td>\n",
       "      <td>1266.797100</td>\n",
       "      <td>1652.879565</td>\n",
       "    </tr>\n",
       "    <tr>\n",
       "      <th>6.0</th>\n",
       "      <td>1014.0</td>\n",
       "      <td>105.486967</td>\n",
       "      <td>132.599802</td>\n",
       "      <td>17.584160</td>\n",
       "      <td>34.990562</td>\n",
       "      <td>34.990562</td>\n",
       "      <td>36.136181</td>\n",
       "      <td>591.250822</td>\n",
       "    </tr>\n",
       "    <tr>\n",
       "      <th>7.0</th>\n",
       "      <td>61.0</td>\n",
       "      <td>175.972897</td>\n",
       "      <td>51.210795</td>\n",
       "      <td>34.990562</td>\n",
       "      <td>138.600478</td>\n",
       "      <td>156.047324</td>\n",
       "      <td>220.711178</td>\n",
       "      <td>248.754411</td>\n",
       "    </tr>\n",
       "    <tr>\n",
       "      <th>15.0</th>\n",
       "      <td>53.0</td>\n",
       "      <td>186.774796</td>\n",
       "      <td>195.407805</td>\n",
       "      <td>55.322932</td>\n",
       "      <td>78.012666</td>\n",
       "      <td>94.306501</td>\n",
       "      <td>233.596877</td>\n",
       "      <td>766.977132</td>\n",
       "    </tr>\n",
       "    <tr>\n",
       "      <th>69.0</th>\n",
       "      <td>17.0</td>\n",
       "      <td>378.571988</td>\n",
       "      <td>420.806390</td>\n",
       "      <td>0.556049</td>\n",
       "      <td>73.995747</td>\n",
       "      <td>170.666627</td>\n",
       "      <td>1000.735744</td>\n",
       "      <td>1000.735744</td>\n",
       "    </tr>\n",
       "    <tr>\n",
       "      <th>71.0</th>\n",
       "      <td>2.0</td>\n",
       "      <td>533.206476</td>\n",
       "      <td>303.184601</td>\n",
       "      <td>318.822589</td>\n",
       "      <td>426.014532</td>\n",
       "      <td>533.206476</td>\n",
       "      <td>640.398419</td>\n",
       "      <td>747.590363</td>\n",
       "    </tr>\n",
       "    <tr>\n",
       "      <th>97.0</th>\n",
       "      <td>71.0</td>\n",
       "      <td>244.559888</td>\n",
       "      <td>326.934454</td>\n",
       "      <td>34.990562</td>\n",
       "      <td>36.136181</td>\n",
       "      <td>156.047324</td>\n",
       "      <td>248.754411</td>\n",
       "      <td>1645.974711</td>\n",
       "    </tr>\n",
       "  </tbody>\n",
       "</table>\n",
       "</div>"
      ],
      "text/plain": [
       "                      count        mean          std         min         25%  \\\n",
       "JURISDICTION_CODE                                                              \n",
       "0.0                 54698.0  176.486103   282.120329    0.175399   25.423231   \n",
       "1.0                232692.0   79.073661   127.517247    0.175399   19.196627   \n",
       "2.0                   713.0  342.570744   320.165804    0.556049   73.620872   \n",
       "3.0                   545.0  187.734153   150.795000    5.956947  101.335296   \n",
       "4.0                     2.0  880.714634  1092.006118  108.549703  494.632169   \n",
       "6.0                  1014.0  105.486967   132.599802   17.584160   34.990562   \n",
       "7.0                    61.0  175.972897    51.210795   34.990562  138.600478   \n",
       "15.0                   53.0  186.774796   195.407805   55.322932   78.012666   \n",
       "69.0                   17.0  378.571988   420.806390    0.556049   73.995747   \n",
       "71.0                    2.0  533.206476   303.184601  318.822589  426.014532   \n",
       "97.0                   71.0  244.559888   326.934454   34.990562   36.136181   \n",
       "\n",
       "                          50%          75%          max  \n",
       "JURISDICTION_CODE                                        \n",
       "0.0                 73.292449   163.013273  1865.959429  \n",
       "1.0                 44.166636    95.568448  1796.424857  \n",
       "2.0                283.440122   466.723979  1836.848883  \n",
       "3.0                132.607594   228.890162   943.373780  \n",
       "4.0                880.714634  1266.797100  1652.879565  \n",
       "6.0                 34.990562    36.136181   591.250822  \n",
       "7.0                156.047324   220.711178   248.754411  \n",
       "15.0                94.306501   233.596877   766.977132  \n",
       "69.0               170.666627  1000.735744  1000.735744  \n",
       "71.0               533.206476   640.398419   747.590363  \n",
       "97.0               156.047324   248.754411  1645.974711  "
      ]
     },
     "execution_count": 160,
     "metadata": {},
     "output_type": "execute_result"
    }
   ],
   "source": [
    "clean_df.groupby(['JURISDICTION_CODE']).DistToStation.describe()"
   ]
  },
  {
   "cell_type": "code",
   "execution_count": null,
   "metadata": {},
   "outputs": [],
   "source": []
  }
 ],
 "metadata": {
  "kernelspec": {
   "display_name": "Python 3",
   "language": "python",
   "name": "python3"
  },
  "language_info": {
   "codemirror_mode": {
    "name": "ipython",
    "version": 3
   },
   "file_extension": ".py",
   "mimetype": "text/x-python",
   "name": "python",
   "nbconvert_exporter": "python",
   "pygments_lexer": "ipython3",
   "version": "3.7.3"
  }
 },
 "nbformat": 4,
 "nbformat_minor": 2
}
