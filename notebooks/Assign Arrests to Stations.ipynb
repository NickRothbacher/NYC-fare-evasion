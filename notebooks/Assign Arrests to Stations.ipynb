{
 "cells": [
  {
   "cell_type": "code",
   "execution_count": 3,
   "metadata": {},
   "outputs": [],
   "source": [
    "import pandas as pd\n",
    "import geopandas\n",
    "from shapely.geometry import Point\n",
    "from shapely.ops import nearest_points\n",
    "from math import *\n",
    "import seaborn as sns\n",
    "import matplotlib.pyplot as plt"
   ]
  },
  {
   "cell_type": "code",
   "execution_count": 4,
   "metadata": {},
   "outputs": [],
   "source": [
    "fare_arrests = pd.read_csv('../data/Fare Evasion Arrests.csv')"
   ]
  },
  {
   "cell_type": "code",
   "execution_count": 5,
   "metadata": {},
   "outputs": [],
   "source": [
    "stations = geopandas.read_file('../data/Subway Stations/geo_export_d1cef8bd-bb80-491b-983e-fc4b3e3aab4f.shp')"
   ]
  },
  {
   "cell_type": "code",
   "execution_count": 6,
   "metadata": {},
   "outputs": [
    {
     "data": {
      "text/plain": [
       "Index(['ARREST_KEY', 'ARREST_DATE', 'PD_CD', 'PD_DESC', 'KY_CD', 'OFNS_DESC',\n",
       "       'LAW_CODE', 'LAW_CAT_CD', 'ARREST_BORO', 'ARREST_PRECINCT',\n",
       "       'JURISDICTION_CODE', 'AGE_GROUP', 'PERP_SEX', 'PERP_RACE', 'X_COORD_CD',\n",
       "       'Y_COORD_CD', 'Latitude', 'Longitude'],\n",
       "      dtype='object')"
      ]
     },
     "execution_count": 6,
     "metadata": {},
     "output_type": "execute_result"
    }
   ],
   "source": [
    "fare_arrests.columns"
   ]
  },
  {
   "cell_type": "code",
   "execution_count": 7,
   "metadata": {},
   "outputs": [
    {
     "data": {
      "text/plain": [
       "0"
      ]
     },
     "execution_count": 7,
     "metadata": {},
     "output_type": "execute_result"
    }
   ],
   "source": [
    "#original datasets have no nans\n",
    "len(fare_arrests.dropna())- len(fare_arrests)"
   ]
  },
  {
   "cell_type": "code",
   "execution_count": 8,
   "metadata": {},
   "outputs": [],
   "source": [
    "arrests_gdf = geopandas.GeoDataFrame(fare_arrests[['ARREST_KEY', 'ARREST_DATE', 'ARREST_BORO', 'ARREST_PRECINCT', 'JURISDICTION_CODE', 'AGE_GROUP', 'PERP_SEX', 'PERP_RACE','Latitude', 'Longitude']], geometry= [Point(x, y) for x, y in zip(fare_arrests.Longitude, fare_arrests.Latitude)])"
   ]
  },
  {
   "cell_type": "code",
   "execution_count": 9,
   "metadata": {},
   "outputs": [],
   "source": [
    "unary = stations.geometry.unary_union"
   ]
  },
  {
   "cell_type": "code",
   "execution_count": 10,
   "metadata": {},
   "outputs": [],
   "source": [
    "def nearest_station(point, pts=unary):\n",
    "     # find the nearest station and return it and the corresponding distance to that station\n",
    "    nearest = stations.geometry == nearest_points(point, pts)[1]\n",
    "    \n",
    "    \n",
    "    longs = stations[nearest].iloc[0].geometry.x\n",
    "    lats = stations[nearest].iloc[0].geometry.y\n",
    "    longp = point.x\n",
    "    latp = point.y\n",
    "    \n",
    "    return [stations[nearest].iloc[0], haversine(longs, lats, longp, latp)]\n",
    "\n",
    "def haversine(lon1, lat1, lon2, lat2):\n",
    "    \"\"\"\n",
    "    Calculate the great circle distance between two points \n",
    "    on the earth (specified in decimal degrees)\n",
    "    \"\"\"\n",
    "    # convert decimal degrees to radians \n",
    "    lon1, lat1, lon2, lat2 = map(radians, [lon1, lat1, lon2, lat2])\n",
    "\n",
    "    # haversine formula \n",
    "    dlon = lon2 - lon1 \n",
    "    dlat = lat2 - lat1 \n",
    "    a = sin(dlat/2)**2 + cos(lat1) * cos(lat2) * sin(dlon/2)**2\n",
    "    c = 2 * asin(sqrt(a)) \n",
    "    r = 6371 # Radius of earth in km. Use 3956 for miles\n",
    "    \n",
    "    return c * r *1000 #conver to m"
   ]
  },
  {
   "cell_type": "code",
   "execution_count": 11,
   "metadata": {},
   "outputs": [
    {
     "data": {
      "text/html": [
       "<div>\n",
       "<style scoped>\n",
       "    .dataframe tbody tr th:only-of-type {\n",
       "        vertical-align: middle;\n",
       "    }\n",
       "\n",
       "    .dataframe tbody tr th {\n",
       "        vertical-align: top;\n",
       "    }\n",
       "\n",
       "    .dataframe thead th {\n",
       "        text-align: right;\n",
       "    }\n",
       "</style>\n",
       "<table border=\"1\" class=\"dataframe\">\n",
       "  <thead>\n",
       "    <tr style=\"text-align: right;\">\n",
       "      <th></th>\n",
       "      <th>line</th>\n",
       "      <th>name</th>\n",
       "      <th>notes</th>\n",
       "      <th>objectid</th>\n",
       "    </tr>\n",
       "    <tr>\n",
       "      <th>index</th>\n",
       "      <th></th>\n",
       "      <th></th>\n",
       "      <th></th>\n",
       "      <th></th>\n",
       "    </tr>\n",
       "  </thead>\n",
       "  <tbody>\n",
       "    <tr>\n",
       "      <th>1.0</th>\n",
       "      <td>4-6-6 Express</td>\n",
       "      <td>77th St</td>\n",
       "      <td>4 nights, 6-all times, 6 Express-weekdays AM s...</td>\n",
       "      <td>34.0</td>\n",
       "    </tr>\n",
       "    <tr>\n",
       "      <th>3.0</th>\n",
       "      <td>2-5</td>\n",
       "      <td>Prospect Ave</td>\n",
       "      <td>2-all times, 5-all times exc nights, skips rus...</td>\n",
       "      <td>254.0</td>\n",
       "    </tr>\n",
       "    <tr>\n",
       "      <th>4.0</th>\n",
       "      <td>B-D</td>\n",
       "      <td>Kingsbridge Rd</td>\n",
       "      <td>B-rush hours, D-all times</td>\n",
       "      <td>59.0</td>\n",
       "    </tr>\n",
       "    <tr>\n",
       "      <th>5.0</th>\n",
       "      <td>A-B-C-D</td>\n",
       "      <td>145th St</td>\n",
       "      <td>A,D-all times, B-weekdays and evenings, C-all ...</td>\n",
       "      <td>295.0</td>\n",
       "    </tr>\n",
       "    <tr>\n",
       "      <th>6.0</th>\n",
       "      <td>A-C-E</td>\n",
       "      <td>W 4th St - Washington Sq (Upper)</td>\n",
       "      <td>A,E-all times, C-all times exc nights</td>\n",
       "      <td>206.0</td>\n",
       "    </tr>\n",
       "    <tr>\n",
       "      <th>...</th>\n",
       "      <td>...</td>\n",
       "      <td>...</td>\n",
       "      <td>...</td>\n",
       "      <td>...</td>\n",
       "    </tr>\n",
       "    <tr>\n",
       "      <th>292259.0</th>\n",
       "      <td>N-Q-R-W</td>\n",
       "      <td>49th St</td>\n",
       "      <td>N-all times, Q-all times exc weekends, R-all t...</td>\n",
       "      <td>354.0</td>\n",
       "    </tr>\n",
       "    <tr>\n",
       "      <th>292260.0</th>\n",
       "      <td>L</td>\n",
       "      <td>8th Ave</td>\n",
       "      <td>L-all times</td>\n",
       "      <td>443.0</td>\n",
       "    </tr>\n",
       "    <tr>\n",
       "      <th>292261.0</th>\n",
       "      <td>B-D</td>\n",
       "      <td>Kingsbridge Rd</td>\n",
       "      <td>B-rush hours, D-all times</td>\n",
       "      <td>59.0</td>\n",
       "    </tr>\n",
       "    <tr>\n",
       "      <th>292263.0</th>\n",
       "      <td>A-C-E</td>\n",
       "      <td>42nd St - Port Authority Bus Term</td>\n",
       "      <td>A,E-all times, C-all times exc nights</td>\n",
       "      <td>362.0</td>\n",
       "    </tr>\n",
       "    <tr>\n",
       "      <th>292266.0</th>\n",
       "      <td>4-6-6 Express</td>\n",
       "      <td>110th St</td>\n",
       "      <td>4 nights, 6-all times, 6 Express-weekdays AM s...</td>\n",
       "      <td>450.0</td>\n",
       "    </tr>\n",
       "  </tbody>\n",
       "</table>\n",
       "<p>268320 rows × 4 columns</p>\n",
       "</div>"
      ],
      "text/plain": [
       "                   line                               name  \\\n",
       "index                                                        \n",
       "1.0       4-6-6 Express                            77th St   \n",
       "3.0                 2-5                       Prospect Ave   \n",
       "4.0                 B-D                     Kingsbridge Rd   \n",
       "5.0             A-B-C-D                           145th St   \n",
       "6.0               A-C-E   W 4th St - Washington Sq (Upper)   \n",
       "...                 ...                                ...   \n",
       "292259.0        N-Q-R-W                            49th St   \n",
       "292260.0              L                            8th Ave   \n",
       "292261.0            B-D                     Kingsbridge Rd   \n",
       "292263.0          A-C-E  42nd St - Port Authority Bus Term   \n",
       "292266.0  4-6-6 Express                           110th St   \n",
       "\n",
       "                                                      notes  objectid  \n",
       "index                                                                  \n",
       "1.0       4 nights, 6-all times, 6 Express-weekdays AM s...      34.0  \n",
       "3.0       2-all times, 5-all times exc nights, skips rus...     254.0  \n",
       "4.0                               B-rush hours, D-all times      59.0  \n",
       "5.0       A,D-all times, B-weekdays and evenings, C-all ...     295.0  \n",
       "6.0                   A,E-all times, C-all times exc nights     206.0  \n",
       "...                                                     ...       ...  \n",
       "292259.0  N-all times, Q-all times exc weekends, R-all t...     354.0  \n",
       "292260.0                                        L-all times     443.0  \n",
       "292261.0                          B-rush hours, D-all times      59.0  \n",
       "292263.0              A,E-all times, C-all times exc nights     362.0  \n",
       "292266.0  4 nights, 6-all times, 6 Express-weekdays AM s...     450.0  \n",
       "\n",
       "[268320 rows x 4 columns]"
      ]
     },
     "execution_count": 11,
     "metadata": {},
     "output_type": "execute_result"
    }
   ],
   "source": [
    "max_dist = 250\n",
    "\n",
    "arrests_stations = pd.DataFrame()\n",
    "\n",
    "for index, row in arrests_gdf.iterrows():\n",
    "    [station, dist] = nearest_station(row.geometry)\n",
    "    \n",
    "    df = station[['line', 'name', 'notes', 'objectid']].copy()\n",
    "    df['index'] = index\n",
    "    \n",
    "    if dist <= max_dist:\n",
    "        arrests_stations = arrests_stations.append(df)"
   ]
  },
  {
   "cell_type": "code",
   "execution_count": 12,
   "metadata": {},
   "outputs": [
    {
     "name": "stdout",
     "output_type": "stream",
     "text": [
      "268320\n"
     ]
    }
   ],
   "source": [
    "print(len(arrests_stations))"
   ]
  },
  {
   "cell_type": "code",
   "execution_count": 36,
   "metadata": {},
   "outputs": [
    {
     "name": "stdout",
     "output_type": "stream",
     "text": [
      "                line                              name  \\\n",
      "index                                                    \n",
      "1      4-6-6 Express                           77th St   \n",
      "3                2-5                      Prospect Ave   \n",
      "4                B-D                    Kingsbridge Rd   \n",
      "5            A-B-C-D                          145th St   \n",
      "6              A-C-E  W 4th St - Washington Sq (Upper)   \n",
      "\n",
      "                                                   notes  objectid  \n",
      "index                                                               \n",
      "1      4 nights, 6-all times, 6 Express-weekdays AM s...      34.0  \n",
      "3      2-all times, 5-all times exc nights, skips rus...     254.0  \n",
      "4                              B-rush hours, D-all times      59.0  \n",
      "5      A,D-all times, B-weekdays and evenings, C-all ...     295.0  \n",
      "6                  A,E-all times, C-all times exc nights     206.0  \n"
     ]
    }
   ],
   "source": [
    "arrests_stations.index = arrests_stations.index.astype('int64')\n",
    "print(arrests_stations.head())"
   ]
  },
  {
   "cell_type": "code",
   "execution_count": 37,
   "metadata": {},
   "outputs": [],
   "source": [
    "arrests_assigned = arrests_gdf.merge(arrests_stations, left_index=True, right_index = True)"
   ]
  },
  {
   "cell_type": "code",
   "execution_count": 38,
   "metadata": {},
   "outputs": [
    {
     "name": "stdout",
     "output_type": "stream",
     "text": [
      "   ARREST_KEY ARREST_DATE ARREST_BORO  ARREST_PRECINCT  JURISDICTION_CODE  \\\n",
      "1   173113521  12/31/2017           M               19                1.0   \n",
      "3   173114446  12/31/2017           B               40                1.0   \n",
      "4   173093896  12/30/2017           B               52                1.0   \n",
      "5   173102770  12/30/2017           M               30                1.0   \n",
      "6   173107288  12/30/2017           M                6                1.0   \n",
      "\n",
      "  AGE_GROUP PERP_SEX       PERP_RACE   Latitude  Longitude  \\\n",
      "1     25-44        F  WHITE HISPANIC  40.773650 -73.959857   \n",
      "3     25-44        M  WHITE HISPANIC  40.819702 -73.901603   \n",
      "4     25-44        M           BLACK  40.866076 -73.894376   \n",
      "5     25-44        M           BLACK  40.824040 -73.944760   \n",
      "6     45-64        M           BLACK  40.731715 -74.000958   \n",
      "\n",
      "                                       geometry           line  \\\n",
      "1  POINT (-73.95985695199995 40.77365029300007)  4-6-6 Express   \n",
      "3  POINT (-73.90160301699996 40.81970204500004)            2-5   \n",
      "4  POINT (-73.89437578699994 40.86607576000005)            B-D   \n",
      "5  POINT (-73.94475961199998 40.82404000400004)        A-B-C-D   \n",
      "6  POINT (-74.00095761299998 40.73171480100008)          A-C-E   \n",
      "\n",
      "                               name  \\\n",
      "1                           77th St   \n",
      "3                      Prospect Ave   \n",
      "4                    Kingsbridge Rd   \n",
      "5                          145th St   \n",
      "6  W 4th St - Washington Sq (Upper)   \n",
      "\n",
      "                                               notes  objectid  \n",
      "1  4 nights, 6-all times, 6 Express-weekdays AM s...      34.0  \n",
      "3  2-all times, 5-all times exc nights, skips rus...     254.0  \n",
      "4                          B-rush hours, D-all times      59.0  \n",
      "5  A,D-all times, B-weekdays and evenings, C-all ...     295.0  \n",
      "6              A,E-all times, C-all times exc nights     206.0  \n"
     ]
    }
   ],
   "source": [
    "print(arrests_assigned.head())"
   ]
  },
  {
   "cell_type": "code",
   "execution_count": 39,
   "metadata": {},
   "outputs": [
    {
     "name": "stdout",
     "output_type": "stream",
     "text": [
      "268320\n"
     ]
    }
   ],
   "source": [
    "print(len(arrests_assigned))"
   ]
  },
  {
   "cell_type": "code",
   "execution_count": 41,
   "metadata": {},
   "outputs": [
    {
     "data": {
      "text/plain": [
       "91.8064646367876"
      ]
     },
     "execution_count": 41,
     "metadata": {},
     "output_type": "execute_result"
    }
   ],
   "source": [
    "#percent of arrests able to be attributible to stops w/ duplicates\n",
    "100*len(arrests_assigned)/len(arrests_gdf)"
   ]
  },
  {
   "cell_type": "code",
   "execution_count": 43,
   "metadata": {},
   "outputs": [
    {
     "name": "stdout",
     "output_type": "stream",
     "text": [
      "Dropped: 0 duplicates.\n"
     ]
    }
   ],
   "source": [
    "#drop duplicates of arrests we couldn't uniquely attach to a station\n",
    "arrests_assigned = arrests_assigned.drop_duplicates(subset='ARREST_KEY', keep = False)\n",
    "print('Dropped: '+str(len(arrests_assigned) - len(arrests_stations))+ ' duplicates.')"
   ]
  },
  {
   "cell_type": "code",
   "execution_count": 44,
   "metadata": {},
   "outputs": [
    {
     "name": "stdout",
     "output_type": "stream",
     "text": [
      "Dropped: 0 nans.\n"
     ]
    }
   ],
   "source": [
    "#drop rows with any columns na (ie we could not assign to stations)\n",
    "arrests_assigned = arrests_assigned.dropna()\n",
    "print('Dropped: '+str(len(arrests_assigned) - len(arrests_stations))+ ' nans.')"
   ]
  },
  {
   "cell_type": "code",
   "execution_count": 45,
   "metadata": {},
   "outputs": [],
   "source": [
    "arrests_assigned.to_csv('../data/Arrests_Assigned_250m.csv')"
   ]
  },
  {
   "cell_type": "code",
   "execution_count": 64,
   "metadata": {},
   "outputs": [
    {
     "data": {
      "text/html": [
       "<div>\n",
       "<style scoped>\n",
       "    .dataframe tbody tr th:only-of-type {\n",
       "        vertical-align: middle;\n",
       "    }\n",
       "\n",
       "    .dataframe tbody tr th {\n",
       "        vertical-align: top;\n",
       "    }\n",
       "\n",
       "    .dataframe thead th {\n",
       "        text-align: right;\n",
       "    }\n",
       "</style>\n",
       "<table border=\"1\" class=\"dataframe\">\n",
       "  <thead>\n",
       "    <tr style=\"text-align: right;\">\n",
       "      <th></th>\n",
       "      <th>name</th>\n",
       "      <th>line</th>\n",
       "      <th>arrests</th>\n",
       "    </tr>\n",
       "  </thead>\n",
       "  <tbody>\n",
       "    <tr>\n",
       "      <th>96</th>\n",
       "      <td>42nd St - Port Authority Bus Term</td>\n",
       "      <td>A-C-E</td>\n",
       "      <td>12285</td>\n",
       "    </tr>\n",
       "    <tr>\n",
       "      <th>93</th>\n",
       "      <td>3rd Ave - 149th St</td>\n",
       "      <td>2-5</td>\n",
       "      <td>5955</td>\n",
       "    </tr>\n",
       "    <tr>\n",
       "      <th>17</th>\n",
       "      <td>125th St</td>\n",
       "      <td>4-5-6-6 Express</td>\n",
       "      <td>5176</td>\n",
       "    </tr>\n",
       "    <tr>\n",
       "      <th>11</th>\n",
       "      <td>116th St</td>\n",
       "      <td>4-6-6 Express</td>\n",
       "      <td>5101</td>\n",
       "    </tr>\n",
       "    <tr>\n",
       "      <th>36</th>\n",
       "      <td>161st St - Yankee Stadium</td>\n",
       "      <td>B-D</td>\n",
       "      <td>4979</td>\n",
       "    </tr>\n",
       "    <tr>\n",
       "      <th>...</th>\n",
       "      <td>...</td>\n",
       "      <td>...</td>\n",
       "      <td>...</td>\n",
       "    </tr>\n",
       "    <tr>\n",
       "      <th>302</th>\n",
       "      <td>Fulton St</td>\n",
       "      <td>J-Z</td>\n",
       "      <td>1</td>\n",
       "    </tr>\n",
       "    <tr>\n",
       "      <th>84</th>\n",
       "      <td>34th St - Hudson Yards</td>\n",
       "      <td>7-7 Express</td>\n",
       "      <td>1</td>\n",
       "    </tr>\n",
       "    <tr>\n",
       "      <th>386</th>\n",
       "      <td>New Utrecht Ave</td>\n",
       "      <td>N</td>\n",
       "      <td>1</td>\n",
       "    </tr>\n",
       "    <tr>\n",
       "      <th>106</th>\n",
       "      <td>50th St</td>\n",
       "      <td>D</td>\n",
       "      <td>1</td>\n",
       "    </tr>\n",
       "    <tr>\n",
       "      <th>110</th>\n",
       "      <td>55th St</td>\n",
       "      <td>D</td>\n",
       "      <td>1</td>\n",
       "    </tr>\n",
       "  </tbody>\n",
       "</table>\n",
       "<p>469 rows × 3 columns</p>\n",
       "</div>"
      ],
      "text/plain": [
       "                                  name             line  arrests\n",
       "96   42nd St - Port Authority Bus Term            A-C-E    12285\n",
       "93                  3rd Ave - 149th St              2-5     5955\n",
       "17                            125th St  4-5-6-6 Express     5176\n",
       "11                            116th St    4-6-6 Express     5101\n",
       "36           161st St - Yankee Stadium              B-D     4979\n",
       "..                                 ...              ...      ...\n",
       "302                          Fulton St              J-Z        1\n",
       "84              34th St - Hudson Yards      7-7 Express        1\n",
       "386                    New Utrecht Ave                N        1\n",
       "106                            50th St                D        1\n",
       "110                            55th St                D        1\n",
       "\n",
       "[469 rows x 3 columns]"
      ]
     },
     "execution_count": 64,
     "metadata": {},
     "output_type": "execute_result"
    }
   ],
   "source": [
    "arrests_stations.groupby(['name', 'line']).count().reset_index().sort_values('objectid', ascending=False).drop('notes', axis=1).rename({'objectid': 'arrests'}, axis=1)"
   ]
  },
  {
   "cell_type": "code",
   "execution_count": 65,
   "metadata": {},
   "outputs": [
    {
     "data": {
      "text/html": [
       "<div>\n",
       "<style scoped>\n",
       "    .dataframe tbody tr th:only-of-type {\n",
       "        vertical-align: middle;\n",
       "    }\n",
       "\n",
       "    .dataframe tbody tr th {\n",
       "        vertical-align: top;\n",
       "    }\n",
       "\n",
       "    .dataframe thead th {\n",
       "        text-align: right;\n",
       "    }\n",
       "</style>\n",
       "<table border=\"1\" class=\"dataframe\">\n",
       "  <thead>\n",
       "    <tr style=\"text-align: right;\">\n",
       "      <th></th>\n",
       "      <th>ARREST_KEY</th>\n",
       "      <th>ARREST_DATE</th>\n",
       "      <th>ARREST_BORO</th>\n",
       "      <th>ARREST_PRECINCT</th>\n",
       "      <th>JURISDICTION_CODE</th>\n",
       "      <th>AGE_GROUP</th>\n",
       "      <th>PERP_SEX</th>\n",
       "      <th>PERP_RACE</th>\n",
       "      <th>Latitude</th>\n",
       "      <th>Longitude</th>\n",
       "      <th>geometry</th>\n",
       "      <th>line</th>\n",
       "      <th>name</th>\n",
       "      <th>notes</th>\n",
       "      <th>objectid</th>\n",
       "    </tr>\n",
       "  </thead>\n",
       "  <tbody>\n",
       "    <tr>\n",
       "      <th>1</th>\n",
       "      <td>173113521</td>\n",
       "      <td>12/31/2017</td>\n",
       "      <td>M</td>\n",
       "      <td>19</td>\n",
       "      <td>1.0</td>\n",
       "      <td>25-44</td>\n",
       "      <td>F</td>\n",
       "      <td>WHITE HISPANIC</td>\n",
       "      <td>40.773650</td>\n",
       "      <td>-73.959857</td>\n",
       "      <td>POINT (-73.95985695199995 40.77365029300007)</td>\n",
       "      <td>4-6-6 Express</td>\n",
       "      <td>77th St</td>\n",
       "      <td>4 nights, 6-all times, 6 Express-weekdays AM s...</td>\n",
       "      <td>34.0</td>\n",
       "    </tr>\n",
       "    <tr>\n",
       "      <th>3</th>\n",
       "      <td>173114446</td>\n",
       "      <td>12/31/2017</td>\n",
       "      <td>B</td>\n",
       "      <td>40</td>\n",
       "      <td>1.0</td>\n",
       "      <td>25-44</td>\n",
       "      <td>M</td>\n",
       "      <td>WHITE HISPANIC</td>\n",
       "      <td>40.819702</td>\n",
       "      <td>-73.901603</td>\n",
       "      <td>POINT (-73.90160301699996 40.81970204500004)</td>\n",
       "      <td>2-5</td>\n",
       "      <td>Prospect Ave</td>\n",
       "      <td>2-all times, 5-all times exc nights, skips rus...</td>\n",
       "      <td>254.0</td>\n",
       "    </tr>\n",
       "    <tr>\n",
       "      <th>4</th>\n",
       "      <td>173093896</td>\n",
       "      <td>12/30/2017</td>\n",
       "      <td>B</td>\n",
       "      <td>52</td>\n",
       "      <td>1.0</td>\n",
       "      <td>25-44</td>\n",
       "      <td>M</td>\n",
       "      <td>BLACK</td>\n",
       "      <td>40.866076</td>\n",
       "      <td>-73.894376</td>\n",
       "      <td>POINT (-73.89437578699994 40.86607576000005)</td>\n",
       "      <td>B-D</td>\n",
       "      <td>Kingsbridge Rd</td>\n",
       "      <td>B-rush hours, D-all times</td>\n",
       "      <td>59.0</td>\n",
       "    </tr>\n",
       "    <tr>\n",
       "      <th>5</th>\n",
       "      <td>173102770</td>\n",
       "      <td>12/30/2017</td>\n",
       "      <td>M</td>\n",
       "      <td>30</td>\n",
       "      <td>1.0</td>\n",
       "      <td>25-44</td>\n",
       "      <td>M</td>\n",
       "      <td>BLACK</td>\n",
       "      <td>40.824040</td>\n",
       "      <td>-73.944760</td>\n",
       "      <td>POINT (-73.94475961199998 40.82404000400004)</td>\n",
       "      <td>A-B-C-D</td>\n",
       "      <td>145th St</td>\n",
       "      <td>A,D-all times, B-weekdays and evenings, C-all ...</td>\n",
       "      <td>295.0</td>\n",
       "    </tr>\n",
       "    <tr>\n",
       "      <th>6</th>\n",
       "      <td>173107288</td>\n",
       "      <td>12/30/2017</td>\n",
       "      <td>M</td>\n",
       "      <td>6</td>\n",
       "      <td>1.0</td>\n",
       "      <td>45-64</td>\n",
       "      <td>M</td>\n",
       "      <td>BLACK</td>\n",
       "      <td>40.731715</td>\n",
       "      <td>-74.000958</td>\n",
       "      <td>POINT (-74.00095761299998 40.73171480100008)</td>\n",
       "      <td>A-C-E</td>\n",
       "      <td>W 4th St - Washington Sq (Upper)</td>\n",
       "      <td>A,E-all times, C-all times exc nights</td>\n",
       "      <td>206.0</td>\n",
       "    </tr>\n",
       "  </tbody>\n",
       "</table>\n",
       "</div>"
      ],
      "text/plain": [
       "   ARREST_KEY ARREST_DATE ARREST_BORO  ARREST_PRECINCT  JURISDICTION_CODE  \\\n",
       "1   173113521  12/31/2017           M               19                1.0   \n",
       "3   173114446  12/31/2017           B               40                1.0   \n",
       "4   173093896  12/30/2017           B               52                1.0   \n",
       "5   173102770  12/30/2017           M               30                1.0   \n",
       "6   173107288  12/30/2017           M                6                1.0   \n",
       "\n",
       "  AGE_GROUP PERP_SEX       PERP_RACE   Latitude  Longitude  \\\n",
       "1     25-44        F  WHITE HISPANIC  40.773650 -73.959857   \n",
       "3     25-44        M  WHITE HISPANIC  40.819702 -73.901603   \n",
       "4     25-44        M           BLACK  40.866076 -73.894376   \n",
       "5     25-44        M           BLACK  40.824040 -73.944760   \n",
       "6     45-64        M           BLACK  40.731715 -74.000958   \n",
       "\n",
       "                                       geometry           line  \\\n",
       "1  POINT (-73.95985695199995 40.77365029300007)  4-6-6 Express   \n",
       "3  POINT (-73.90160301699996 40.81970204500004)            2-5   \n",
       "4  POINT (-73.89437578699994 40.86607576000005)            B-D   \n",
       "5  POINT (-73.94475961199998 40.82404000400004)        A-B-C-D   \n",
       "6  POINT (-74.00095761299998 40.73171480100008)          A-C-E   \n",
       "\n",
       "                               name  \\\n",
       "1                           77th St   \n",
       "3                      Prospect Ave   \n",
       "4                    Kingsbridge Rd   \n",
       "5                          145th St   \n",
       "6  W 4th St - Washington Sq (Upper)   \n",
       "\n",
       "                                               notes  objectid  \n",
       "1  4 nights, 6-all times, 6 Express-weekdays AM s...      34.0  \n",
       "3  2-all times, 5-all times exc nights, skips rus...     254.0  \n",
       "4                          B-rush hours, D-all times      59.0  \n",
       "5  A,D-all times, B-weekdays and evenings, C-all ...     295.0  \n",
       "6              A,E-all times, C-all times exc nights     206.0  "
      ]
     },
     "execution_count": 65,
     "metadata": {},
     "output_type": "execute_result"
    }
   ],
   "source": [
    "arrests_assigned.head()"
   ]
  },
  {
   "cell_type": "code",
   "execution_count": null,
   "metadata": {},
   "outputs": [],
   "source": []
  }
 ],
 "metadata": {
  "kernelspec": {
   "display_name": "Python 3",
   "language": "python",
   "name": "python3"
  },
  "language_info": {
   "codemirror_mode": {
    "name": "ipython",
    "version": 3
   },
   "file_extension": ".py",
   "mimetype": "text/x-python",
   "name": "python",
   "nbconvert_exporter": "python",
   "pygments_lexer": "ipython3",
   "version": "3.7.3"
  }
 },
 "nbformat": 4,
 "nbformat_minor": 2
}
