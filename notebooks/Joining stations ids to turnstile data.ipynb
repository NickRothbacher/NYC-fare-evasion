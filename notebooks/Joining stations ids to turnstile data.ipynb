{
 "cells": [
  {
   "cell_type": "code",
   "execution_count": 63,
   "metadata": {},
   "outputs": [],
   "source": [
    "import pandas as pd"
   ]
  },
  {
   "cell_type": "code",
   "execution_count": 172,
   "metadata": {},
   "outputs": [],
   "source": []
  },
  {
   "cell_type": "code",
   "execution_count": 240,
   "metadata": {},
   "outputs": [],
   "source": [
    "excludes = ['14TH STREET1',\n",
    " '9TH STREET1',\n",
    " 'CITY / BUS1',\n",
    " 'EXCHANGE PLACE1',\n",
    " 'GROVE STREET1',\n",
    " 'HARRISON1',\n",
    " 'JOURNAL SQUARE1',\n",
    " 'LACKAWANNA1',\n",
    " 'NEWARK BM BW1',\n",
    " 'NEWARK C1',\n",
    " 'NEWARK HM HE1',\n",
    " 'NEWARK HW BMEBE1',\n",
    " 'PATH NEW WTC1',\n",
    " 'PATH WTC 21',\n",
    " 'PATH WTC1',\n",
    " 'PAVONIA/NEWPORT1',\n",
    " 'RIT-MANHATTANR',\n",
    " 'RIT-ROOSEVELTR',\n",
    " 'ST. GEORGE1',\n",
    " 'THIRTY ST1',\n",
    " 'THIRTY THIRD ST1',\n",
    " 'TOMPKINSVILLE1',\n",
    " 'TWENTY THIRD ST1',\n",
    "    'LGA AIRPORT CTB7'] #these stations aren't part of the NYC database for location so we exclude them"
   ]
  },
  {
   "cell_type": "markdown",
   "metadata": {},
   "source": [
    "For some reason after 2015, they removed a bunch of the es on AVE so use the new file for 2016-on and the normal file for 2010-15"
   ]
  },
  {
   "cell_type": "code",
   "execution_count": 241,
   "metadata": {},
   "outputs": [],
   "source": [
    "match_new = pd.read_csv('Turnstile_data_stops_to_NYC_stops_new.csv')\n",
    "match_old = pd.read_csv('Turnstile_data_stops_to_NYC_stops.csv')"
   ]
  },
  {
   "cell_type": "code",
   "execution_count": 242,
   "metadata": {},
   "outputs": [
    {
     "name": "stdout",
     "output_type": "stream",
     "text": [
      "Year 2014 invalid: 0\n",
      "Year 2015 invalid: 0\n",
      "Year 2016 invalid: 0\n",
      "Year 2017 invalid: 0\n",
      "Year 2018 invalid: 0\n"
     ]
    }
   ],
   "source": [
    "years = [2010, 2011, 2012, 2013, 2014, 2015, 2016, 2017, 2018]\n",
    "for year in years:\n",
    "    if year > 2015:\n",
    "        match = match_new\n",
    "    else:\n",
    "        match = match_old\n",
    "    \n",
    "    stations_daily_clean = pd.read_pickle('../data/Turnstile/{}_daily_turnstile_data.pkl'.format(year))\n",
    "    \n",
    "    joined = stations_daily_clean.merge(match[['station_line', 'objectid']], on='station_line', how ='outer').dropna()\n",
    "    \n",
    "    comp = pd.Series(list(stations_daily_clean.station_line.unique()[~pd.Series(stations_daily_clean.station_line.unique()).isin(joined.station_line.unique())]))\n",
    "    \n",
    "    #compare lost station_lines to those intentionally excluded\n",
    "    print('Year {0} invalid: {1}'.format(year, (~comp.isin(excludes)).sum()))\n",
    "    \n",
    "    if (~comp.isin(excludes)).sum() > 0:\n",
    "        print(list(comp[~comp.isin(excludes)]))\n",
    "    \n",
    "    #for stations in one file assigned the same objectid, we are just summing up those terms\n",
    "    #also for stations that have multiple object ids, we'll just assume that they all get the same entries/exits\n",
    "    joined_and_summed = joined.groupby(['objectid', 'datetime']).agg({'entries':'sum', 'exits':'sum'}).reset_index()\n",
    "    \n",
    "    joined_and_summed.to_csv('../data/{}_turnstile_objectid_format.csv'.format(year))"
   ]
  },
  {
   "cell_type": "code",
   "execution_count": 225,
   "metadata": {},
   "outputs": [],
   "source": [
    "joined = stations_daily_clean.merge(match[['station_line', 'objectid']], on='station_line', how ='outer').dropna()"
   ]
  },
  {
   "cell_type": "code",
   "execution_count": 226,
   "metadata": {},
   "outputs": [
    {
     "data": {
      "text/plain": [
       "467"
      ]
     },
     "execution_count": 226,
     "metadata": {},
     "output_type": "execute_result"
    }
   ],
   "source": [
    "joined.dropna().objectid.nunique()"
   ]
  },
  {
   "cell_type": "code",
   "execution_count": 203,
   "metadata": {},
   "outputs": [
    {
     "data": {
      "text/plain": [
       "473"
      ]
     },
     "execution_count": 203,
     "metadata": {},
     "output_type": "execute_result"
    }
   ],
   "source": [
    "match.objectid.nunique()"
   ]
  },
  {
   "cell_type": "code",
   "execution_count": 227,
   "metadata": {},
   "outputs": [],
   "source": [
    "joined_and_summed = joined.groupby(['objectid', 'datetime']).sum().reset_index()"
   ]
  },
  {
   "cell_type": "code",
   "execution_count": 228,
   "metadata": {},
   "outputs": [
    {
     "data": {
      "text/plain": [
       "array([], dtype=float64)"
      ]
     },
     "execution_count": 228,
     "metadata": {},
     "output_type": "execute_result"
    }
   ],
   "source": [
    "joined.objectid.unique()[~pd.Series(joined.objectid.unique()).isin(joined_and_summed.objectid.unique())]"
   ]
  },
  {
   "cell_type": "code",
   "execution_count": 187,
   "metadata": {},
   "outputs": [],
   "source": [
    "comp12 = pd.Series(list(stations_daily_clean12.station_line.unique()[~pd.Series(stations_daily_clean12.station_line.unique()).isin(joined12.dropna().station_line.unique())]))"
   ]
  },
  {
   "cell_type": "code",
   "execution_count": 233,
   "metadata": {
    "scrolled": true
   },
   "outputs": [
    {
     "data": {
      "text/plain": [
       "364"
      ]
     },
     "execution_count": 233,
     "metadata": {},
     "output_type": "execute_result"
    }
   ],
   "source": [
    "stations_daily_clean.datetime.nunique()"
   ]
  },
  {
   "cell_type": "code",
   "execution_count": 234,
   "metadata": {},
   "outputs": [
    {
     "data": {
      "text/plain": [
       "364"
      ]
     },
     "execution_count": 234,
     "metadata": {},
     "output_type": "execute_result"
    }
   ],
   "source": [
    "joined_and_summed.datetime.nunique()"
   ]
  },
  {
   "cell_type": "code",
   "execution_count": null,
   "metadata": {
    "scrolled": true
   },
   "outputs": [],
   "source": []
  },
  {
   "cell_type": "code",
   "execution_count": 184,
   "metadata": {},
   "outputs": [],
   "source": [
    "stations_daily_clean12 = pd.read_pickle('../data/Turnstile/2012_daily_turnstile_data.pkl')\n",
    "matchold = pd.read_csv('../data/Turnstile_data_stops_to_NYC_stops.csv')"
   ]
  },
  {
   "cell_type": "code",
   "execution_count": 185,
   "metadata": {},
   "outputs": [],
   "source": [
    "joined12 = stations_daily_clean12.merge(matchold[['station_line', 'objectid']], on='station_line', how ='outer')"
   ]
  },
  {
   "cell_type": "code",
   "execution_count": 186,
   "metadata": {},
   "outputs": [
    {
     "data": {
      "text/plain": [
       "['9TH STREET1',\n",
       " 'CITY / BUS1',\n",
       " 'EXCHANGE PLACE1',\n",
       " 'GROVE STREET1',\n",
       " 'HARRISON1',\n",
       " 'JOURNAL SQUARE1',\n",
       " 'LACKAWANNA1',\n",
       " 'NEWARK BM BW1',\n",
       " 'NEWARK C1',\n",
       " 'NEWARK HM HE1',\n",
       " 'NEWARK HW BMEBE1',\n",
       " 'PATH WTC 21',\n",
       " 'PATH WTC1',\n",
       " 'PAVONIA/NEWPORT1',\n",
       " 'RIT-MANHATTANR',\n",
       " 'RIT-ROOSEVELTR',\n",
       " 'ST. GEORGE1',\n",
       " 'THIRTY ST1',\n",
       " 'THIRTY THIRD ST1',\n",
       " 'TOMPKINSVILLE1',\n",
       " 'TWENTY THIRD ST1']"
      ]
     },
     "execution_count": 186,
     "metadata": {},
     "output_type": "execute_result"
    }
   ],
   "source": [
    "list(stations_daily_clean12.station_line.unique()[~pd.Series(stations_daily_clean12.station_line.unique()).isin(joined12.dropna().station_line.unique())])"
   ]
  },
  {
   "cell_type": "code",
   "execution_count": 162,
   "metadata": {},
   "outputs": [
    {
     "data": {
      "text/html": [
       "<div>\n",
       "<style scoped>\n",
       "    .dataframe tbody tr th:only-of-type {\n",
       "        vertical-align: middle;\n",
       "    }\n",
       "\n",
       "    .dataframe tbody tr th {\n",
       "        vertical-align: top;\n",
       "    }\n",
       "\n",
       "    .dataframe thead th {\n",
       "        text-align: right;\n",
       "    }\n",
       "</style>\n",
       "<table border=\"1\" class=\"dataframe\">\n",
       "  <thead>\n",
       "    <tr style=\"text-align: right;\">\n",
       "      <th></th>\n",
       "      <th>station_line</th>\n",
       "      <th>station</th>\n",
       "      <th>linename</th>\n",
       "      <th>objectid</th>\n",
       "    </tr>\n",
       "  </thead>\n",
       "  <tbody>\n",
       "    <tr>\n",
       "      <th>0</th>\n",
       "      <td>WHITEHALL STR1</td>\n",
       "      <td>WHITEHALL ST</td>\n",
       "      <td>R1</td>\n",
       "      <td>421.0</td>\n",
       "    </tr>\n",
       "    <tr>\n",
       "      <th>1</th>\n",
       "      <td>SOUTH FERRYR1</td>\n",
       "      <td>SOUTH FERRY</td>\n",
       "      <td>R1</td>\n",
       "      <td>418.0</td>\n",
       "    </tr>\n",
       "    <tr>\n",
       "      <th>2</th>\n",
       "      <td>FULTON STACJZ2345</td>\n",
       "      <td>FULTON ST</td>\n",
       "      <td>ACJZ2345</td>\n",
       "      <td>413.0</td>\n",
       "    </tr>\n",
       "    <tr>\n",
       "      <th>3</th>\n",
       "      <td>FULTON STACJZ2345</td>\n",
       "      <td>FULTON ST</td>\n",
       "      <td>ACJZ2345</td>\n",
       "      <td>402.0</td>\n",
       "    </tr>\n",
       "    <tr>\n",
       "      <th>4</th>\n",
       "      <td>FULTON STACJZ2345</td>\n",
       "      <td>FULTON ST</td>\n",
       "      <td>ACJZ2345</td>\n",
       "      <td>360.0</td>\n",
       "    </tr>\n",
       "    <tr>\n",
       "      <th>...</th>\n",
       "      <td>...</td>\n",
       "      <td>...</td>\n",
       "      <td>...</td>\n",
       "      <td>...</td>\n",
       "    </tr>\n",
       "    <tr>\n",
       "      <th>742</th>\n",
       "      <td>WEST FARMS SQ25</td>\n",
       "      <td>NaN</td>\n",
       "      <td>NaN</td>\n",
       "      <td>272.0</td>\n",
       "    </tr>\n",
       "    <tr>\n",
       "      <th>743</th>\n",
       "      <td>WHITEHALL S-FRYR1</td>\n",
       "      <td>NaN</td>\n",
       "      <td>NaN</td>\n",
       "      <td>421.0</td>\n",
       "    </tr>\n",
       "    <tr>\n",
       "      <th>744</th>\n",
       "      <td>WHITEHALL S-FRYR1W</td>\n",
       "      <td>NaN</td>\n",
       "      <td>NaN</td>\n",
       "      <td>421.0</td>\n",
       "    </tr>\n",
       "    <tr>\n",
       "      <th>745</th>\n",
       "      <td>WOODLAWN4</td>\n",
       "      <td>NaN</td>\n",
       "      <td>NaN</td>\n",
       "      <td>456.0</td>\n",
       "    </tr>\n",
       "    <tr>\n",
       "      <th>746</th>\n",
       "      <td>WORLD TRADE CTRACE23</td>\n",
       "      <td>NaN</td>\n",
       "      <td>NaN</td>\n",
       "      <td>409.0</td>\n",
       "    </tr>\n",
       "  </tbody>\n",
       "</table>\n",
       "<p>747 rows × 4 columns</p>\n",
       "</div>"
      ],
      "text/plain": [
       "             station_line       station  linename  objectid\n",
       "0          WHITEHALL STR1  WHITEHALL ST        R1     421.0\n",
       "1           SOUTH FERRYR1   SOUTH FERRY        R1     418.0\n",
       "2       FULTON STACJZ2345     FULTON ST  ACJZ2345     413.0\n",
       "3       FULTON STACJZ2345     FULTON ST  ACJZ2345     402.0\n",
       "4       FULTON STACJZ2345     FULTON ST  ACJZ2345     360.0\n",
       "..                    ...           ...       ...       ...\n",
       "742       WEST FARMS SQ25           NaN       NaN     272.0\n",
       "743     WHITEHALL S-FRYR1           NaN       NaN     421.0\n",
       "744    WHITEHALL S-FRYR1W           NaN       NaN     421.0\n",
       "745             WOODLAWN4           NaN       NaN     456.0\n",
       "746  WORLD TRADE CTRACE23           NaN       NaN     409.0\n",
       "\n",
       "[747 rows x 4 columns]"
      ]
     },
     "execution_count": 162,
     "metadata": {},
     "output_type": "execute_result"
    }
   ],
   "source": [
    "matchold"
   ]
  },
  {
   "cell_type": "code",
   "execution_count": null,
   "metadata": {},
   "outputs": [],
   "source": []
  }
 ],
 "metadata": {
  "kernelspec": {
   "display_name": "Python 3",
   "language": "python",
   "name": "python3"
  },
  "language_info": {
   "codemirror_mode": {
    "name": "ipython",
    "version": 3
   },
   "file_extension": ".py",
   "mimetype": "text/x-python",
   "name": "python",
   "nbconvert_exporter": "python",
   "pygments_lexer": "ipython3",
   "version": "3.7.3"
  }
 },
 "nbformat": 4,
 "nbformat_minor": 2
}
