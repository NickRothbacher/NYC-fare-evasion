{
 "cells": [
  {
   "cell_type": "code",
   "execution_count": 3,
   "metadata": {},
   "outputs": [],
   "source": [
    "import pandas as pd\n",
    "import geopandas as gpd\n",
    "import numpy as np\n",
    "import seaborn as sns\n",
    "import matplotlib.pyplot as plt\n",
    "import datetime"
   ]
  },
  {
   "cell_type": "code",
   "execution_count": 4,
   "metadata": {},
   "outputs": [],
   "source": [
    "arrests = pd.read_csv('../data/Arrests_Assigned_250m.csv')\n",
    "arrests['ARREST_DATE'] = pd.to_datetime(arrests['ARREST_DATE'])"
   ]
  },
  {
   "cell_type": "code",
   "execution_count": 222,
   "metadata": {},
   "outputs": [
    {
     "data": {
      "text/plain": [
       "268320"
      ]
     },
     "execution_count": 222,
     "metadata": {},
     "output_type": "execute_result"
    }
   ],
   "source": [
    "len(arrests)"
   ]
  },
  {
   "cell_type": "code",
   "execution_count": 5,
   "metadata": {},
   "outputs": [],
   "source": [
    "len(arrests[arrests['ARREST_DATE'] >= datetime.datetime(2010, 1,1)])\n",
    "arrests = arrests[arrests['ARREST_DATE'] >= datetime.datetime(2010, 1,1)]"
   ]
  },
  {
   "cell_type": "code",
   "execution_count": 220,
   "metadata": {},
   "outputs": [
    {
     "data": {
      "text/plain": [
       "Index(['Unnamed: 0', 'ARREST_KEY', 'ARREST_DATE', 'ARREST_BORO',\n",
       "       'ARREST_PRECINCT', 'JURISDICTION_CODE', 'AGE_GROUP', 'PERP_SEX',\n",
       "       'PERP_RACE', 'Latitude', 'Longitude', 'geometry', 'line', 'name',\n",
       "       'notes', 'objectid'],\n",
       "      dtype='object')"
      ]
     },
     "execution_count": 220,
     "metadata": {},
     "output_type": "execute_result"
    }
   ],
   "source": [
    "arrests.columns"
   ]
  },
  {
   "cell_type": "code",
   "execution_count": 100,
   "metadata": {},
   "outputs": [
    {
     "name": "stderr",
     "output_type": "stream",
     "text": [
      "C:\\Users\\nicol\\AppData\\Local\\Continuum\\anaconda3\\lib\\site-packages\\ipykernel_launcher.py:1: FutureWarning: Comparing Series of datetimes with 'datetime.date'.  Currently, the\n",
      "'datetime.date' is coerced to a datetime. In the future pandas will\n",
      "not coerce, and 'the values will not compare equal to the\n",
      "'datetime.date'. To retain the current behavior, convert the\n",
      "'datetime.date' to a datetime with 'pd.Timestamp'.\n",
      "  \"\"\"Entry point for launching an IPython kernel.\n"
     ]
    },
    {
     "data": {
      "text/plain": [
       "1"
      ]
     },
     "execution_count": 100,
     "metadata": {},
     "output_type": "execute_result"
    }
   ],
   "source": [
    "len(arrests[(arrests.ARREST_DATE == datetime.date(2018, 12, 12))].groupby('objectid').get_group(15.0))"
   ]
  },
  {
   "cell_type": "code",
   "execution_count": 225,
   "metadata": {},
   "outputs": [
    {
     "data": {
      "text/plain": [
       "PERP_RACE\n",
       "AMERICAN INDIAN/ALASKAN NATIVE     0.157010\n",
       "ASIAN / PACIFIC ISLANDER           1.992223\n",
       "BLACK                             56.271858\n",
       "BLACK HISPANIC                     8.385629\n",
       "UNKNOWN                            0.764509\n",
       "WHITE                              7.259654\n",
       "WHITE HISPANIC                    25.169116\n",
       "dtype: float64"
      ]
     },
     "execution_count": 225,
     "metadata": {},
     "output_type": "execute_result"
    }
   ],
   "source": [
    "100*arrests.groupby('PERP_RACE').size()/len(arrests)"
   ]
  },
  {
   "cell_type": "code",
   "execution_count": 235,
   "metadata": {
    "scrolled": false
   },
   "outputs": [
    {
     "name": "stderr",
     "output_type": "stream",
     "text": [
      "C:\\Users\\nicol\\AppData\\Local\\Continuum\\anaconda3\\lib\\site-packages\\ipykernel_launcher.py:61: UserWarning: Matplotlib is currently using module://ipykernel.pylab.backend_inline, which is a non-GUI backend, so cannot show the figure.\n"
     ]
    },
    {
     "data": {
      "image/png": "[encoded data removed]",
      "text/plain": [
       "<Figure size 662.4x360 with 1 Axes>"
      ]
     },
     "metadata": {
      "needs_background": "light"
     },
     "output_type": "display_data"
    }
   ],
   "source": [
    "city_hisp = [28.90, 32.5, 13.4,22.4, 2.50] #Hisp, non-hisp white, Asian, non-hisp Black, other/multiracial\n",
    "transit_hisp= [28.90, 32.40, 13.90, 24.500, 0.3]\n",
    "arrests_hisp = [33.5546, 7.2596, 1.992, 56.271, 0.7645]\n",
    "\n",
    "races = ['Hispanic & Latino', 'White', 'Asian', 'Black', 'Other or Multiracial']\n",
    "labels = ['City total', 'Transit commuters', 'Fare evasion arrestees']         \n",
    "hisp_data = np.array([city_hisp, transit_hisp, arrests_hisp]).T\n",
    "\n",
    "race_colors = [\"#dd6e42\",\"#e8dab2\",\"#4f6d7a\",\"#c0d6df\", \"#AAAE7F\"]\n",
    "\n",
    "\n",
    "fig, ax = plt.subplots(figsize=(9.2, 5))\n",
    "ax.invert_yaxis()\n",
    "ax.xaxis.set_visible(False)\n",
    "ax.set_xlim(0, 100)\n",
    "\n",
    "ax.barh(labels, hisp_data[1], label=races[1], color = race_colors[0])\n",
    "text_color = 'white'\n",
    "xlefts = hisp_data[1]\n",
    "for y, (x, c) in enumerate(zip(xlefts/2, hisp_data[1])):\n",
    "    ax.text(x, y, str(\"{:.1f}\".format(c)), ha='center', va='center',\n",
    "            color=text_color)\n",
    "\n",
    "ax.barh(labels, hisp_data[0], label=races[0], left = xlefts, color = race_colors[1])\n",
    "text_color = 'black'\n",
    "xcenters = xlefts + hisp_data[0]/2\n",
    "xlefts += hisp_data[0]\n",
    "for y, (x, c) in enumerate(zip(xcenters, hisp_data[0])):\n",
    "    ax.text(x, y, str(\"{:.1f}\".format(c)), ha='center', va='center',\n",
    "            color=text_color)\n",
    "\n",
    "ax.barh(labels, hisp_data[3], label=races[3], left = xlefts, color = race_colors[2])\n",
    "xcenters = xlefts + hisp_data[3]/2\n",
    "xlefts += hisp_data[3] \n",
    "text_color='white'\n",
    "for y, (x, c) in enumerate(zip(xcenters, hisp_data[3])):\n",
    "    ax.text(x, y, str(\"{:.1f}\".format(c)), ha='center', va='center',\n",
    "            color=text_color)\n",
    "\n",
    "ax.barh(labels, hisp_data[2], label=races[2], left = xlefts,  color = race_colors[3])\n",
    "xcenters = xlefts + hisp_data[2]/2\n",
    "xlefts += hisp_data[2]\n",
    "text_color='black'\n",
    "for y, (x, c) in enumerate(zip(xcenters, hisp_data[2])):\n",
    "    if y >1:\n",
    "        ax.text(x, y, str(\"{:.1f}\".format(c)), ha='center', va='center',\n",
    "            color=text_color, fontsize=8)\n",
    "    else:\n",
    "        ax.text(x, y, str(\"{:.1f}\".format(c)), ha='center', va='center',\n",
    "            color=text_color)\n",
    "\n",
    "\n",
    "ax.barh(labels, hisp_data[4], label=races[4], left = xlefts,  color = race_colors[4])\n",
    "xcenters = xlefts + hisp_data[4]/2\n",
    "xlefts += hisp_data[4]\n",
    "ax.text(xcenters[0], 0, str(\"{:.1f}\".format(hisp_data[4][0])), ha='center', va='center',\n",
    "    color=text_color)\n",
    "ax.legend(ncol=len(races), bbox_to_anchor=(0, 1),\n",
    "          loc='lower left', fontsize='medium')\n",
    "plt.gcf().text(0.125, 0.07, '* Black Transit commuters is likely an overestimate as it includes Afro-Latinos already counted in Hispanic & Latino', fontsize=8)\n",
    "fig.show()\n",
    "fig.savefig('../figures/Race.png', bbox_inches='tight')"
   ]
  },
  {
   "cell_type": "markdown",
   "metadata": {},
   "source": [
    "Borough of arrest. B(Bronx), S(Staten Island), K(Brooklyn), M(Manhattan), Q(Queens)\n"
   ]
  },
  {
   "cell_type": "code",
   "execution_count": 228,
   "metadata": {},
   "outputs": [
    {
     "data": {
      "text/plain": [
       "ARREST_BORO\n",
       "B    22.922546\n",
       "K    29.020519\n",
       "M    37.604735\n",
       "Q    10.452200\n",
       "dtype: float64"
      ]
     },
     "execution_count": 228,
     "metadata": {},
     "output_type": "execute_result"
    }
   ],
   "source": [
    "100*arrests.groupby('ARREST_BORO').size()/len(arrests)"
   ]
  },
  {
   "cell_type": "code",
   "execution_count": 229,
   "metadata": {},
   "outputs": [
    {
     "data": {
      "image/png": "[encoded data removed]",
      "text/plain": [
       "<Figure size 662.4x360 with 1 Axes>"
      ]
     },
     "metadata": {
      "needs_background": "light"
     },
     "output_type": "display_data"
    }
   ],
   "source": [
    "city_borough = [17.95712789, 32.62727579, 20.48596086, 28.92963546]\n",
    "transit_borough = [15.52368915, 33.44169072, 24.33938595, 26.69523419]\n",
    "arrests_borough = [22.922546, 29.020519, 37.604735, 10.452200]\n",
    "\n",
    "boroughs = ['Bronx', 'Brooklyn', 'Manhattan', 'Queens']\n",
    "labels = ['City total', 'Transit commuters', 'Arrest Location']         \n",
    "borough_data = np.array([city_borough, transit_borough, arrests_borough]).T\n",
    "\n",
    "race_colors = [\"#dd6e42\",\"#e8dab2\",\"#4f6d7a\",\"#c0d6df\",\"#eaeaea\"]\n",
    "\n",
    "\n",
    "fig, ax = plt.subplots(figsize=(9.2, 5))\n",
    "ax.invert_yaxis()\n",
    "ax.xaxis.set_visible(False)\n",
    "ax.set_xlim(0, 100)\n",
    "ax.barh(labels, borough_data[0], label=boroughs[0], color = race_colors[1])\n",
    "xlefts = borough_data[0]\n",
    "for y, (x, c) in enumerate(zip(xlefts/2, borough_data[0])):\n",
    "    ax.text(x, y, str(\"{:.1f}\".format(c)), ha='center', va='center',\n",
    "            color='black')\n",
    "\n",
    "ax.barh(labels, borough_data[1], label=boroughs[1], left = xlefts, color = race_colors[2])\n",
    "xcenters = xlefts + borough_data[1]/2\n",
    "xlefts += borough_data[1]\n",
    "for y, (x, c) in enumerate(zip(xcenters, borough_data[1])):\n",
    "    ax.text(x, y, str(\"{:.1f}\".format(c)), ha='center', va='center',\n",
    "            color='white')\n",
    "\n",
    "ax.barh(labels, borough_data[2], label=boroughs[2], left = xlefts, color = race_colors[0])\n",
    "xcenters = xlefts + borough_data[2]/2\n",
    "xlefts += borough_data[2]\n",
    "for y, (x, c) in enumerate(zip(xcenters, borough_data[2])):\n",
    "    ax.text(x, y, str(\"{:.1f}\".format(c)), ha='center', va='center',\n",
    "            color='white')\n",
    "ax.barh(labels, borough_data[3], label=boroughs[3], left = xlefts,  color = race_colors[3])\n",
    "xcenters = xlefts + borough_data[3]/2\n",
    "\n",
    "for y, (x, c) in enumerate(zip(xcenters, borough_data[3])):\n",
    "    ax.text(x, y, str(\"{:.1f}\".format(c)), ha='center', va='center',\n",
    "            color='black')\n",
    "ax.legend(ncol=len(races), bbox_to_anchor=(0, 1),\n",
    "          loc='lower left', fontsize='medium')\n",
    "\n",
    "plt.gcf().text(0.125, 0.07, '*Excludes Staten Island: the SIR is not patroled by the NYPD Transit Bureau', fontsize=8)\n",
    "plt.show()\n",
    "fig.savefig('../figures/Borough.png', bbox_inches='tight')"
   ]
  },
  {
   "cell_type": "code",
   "execution_count": 230,
   "metadata": {},
   "outputs": [
    {
     "data": {
      "text/plain": [
       "AGE_GROUP\n",
       "18-24    38.605982\n",
       "25-44    36.213162\n",
       "45-64    14.916970\n",
       "65+       0.201032\n",
       "<18      10.062853\n",
       "dtype: float64"
      ]
     },
     "execution_count": 230,
     "metadata": {},
     "output_type": "execute_result"
    }
   ],
   "source": [
    "100*arrests.groupby('AGE_GROUP').size()/len(arrests)"
   ]
  },
  {
   "cell_type": "code",
   "execution_count": 231,
   "metadata": {},
   "outputs": [
    {
     "name": "stderr",
     "output_type": "stream",
     "text": [
      "C:\\Users\\nicol\\AppData\\Local\\Continuum\\anaconda3\\lib\\site-packages\\ipykernel_launcher.py:40: UserWarning: Matplotlib is currently using module://ipykernel.pylab.backend_inline, which is a non-GUI backend, so cannot show the figure.\n"
     ]
    },
    {
     "data": {
      "image/png": "[encoded data removed]",
      "text/plain": [
       "<Figure size 662.4x360 with 1 Axes>"
      ]
     },
     "metadata": {
      "needs_background": "light"
     },
     "output_type": "display_data"
    }
   ],
   "source": [
    "city_age = [31.1, 31.5, 37.3] #<25, 25-44, 45+\n",
    "transit_age = [11.20, 53.80, 34.90]\n",
    "arrests_age = [48.668835, 36.213162, 15.11800]\n",
    "\n",
    "ages = ['Under 25', '25-44', '45+']\n",
    "labels = ['City total', 'Transit commuters', 'Fare evasion arrestees']         \n",
    "age_data = np.array([city_age, transit_age, arrests_age]).T\n",
    "\n",
    "race_colors = [\"#dd6e42\",\"#e8dab2\",\"#4f6d7a\",\"#c0d6df\",\"#eaeaea\"]\n",
    "\n",
    "\n",
    "fig, ax = plt.subplots(figsize=(9.2, 5))\n",
    "ax.invert_yaxis()\n",
    "ax.xaxis.set_visible(False)\n",
    "ax.set_xlim(0, 100)\n",
    "ax.barh(labels, age_data[0], label=ages[0], color = race_colors[1])\n",
    "xlefts = age_data[0]\n",
    "for y, (x, c) in enumerate(zip(xlefts/2, age_data[0])):\n",
    "    ax.text(x, y, str(\"{:.1f}\".format(c)), ha='center', va='center',\n",
    "            color='black')\n",
    "\n",
    "ax.barh(labels, age_data[1], label=ages[1], left = xlefts, color = race_colors[2])\n",
    "xcenters = xlefts + age_data[1]/2\n",
    "xlefts += age_data[1]\n",
    "for y, (x, c) in enumerate(zip(xcenters, age_data[1])):\n",
    "    ax.text(x, y, str(\"{:.1f}\".format(c)), ha='center', va='center',\n",
    "            color='white')\n",
    "\n",
    "ax.barh(labels, age_data[2], label=ages[2], left = xlefts, color = race_colors[3])\n",
    "\n",
    "xcenters = xlefts + age_data[2]/2\n",
    "for y, (x, c) in enumerate(zip(xcenters, age_data[2])):\n",
    "    ax.text(x, y, str(\"{:.1f}\".format(c)), ha='center', va='center',\n",
    "            color='black')\n",
    "ax.legend(ncol=len(ages), bbox_to_anchor=(0, 1),\n",
    "          loc='lower left', fontsize='medium')\n",
    "\n",
    "plt.gcf().text(0.125, 0.07, '*Transit commuters excludes students and those under 16 which underestimates the proportion of riders under 25', fontsize=8)\n",
    "\n",
    "fig.show()\n",
    "fig.savefig('../figures/Age.png', bbox_inches='tight')"
   ]
  },
  {
   "cell_type": "code",
   "execution_count": 232,
   "metadata": {},
   "outputs": [
    {
     "data": {
      "text/plain": [
       "PERP_SEX\n",
       "F    11.202035\n",
       "M    88.797965\n",
       "dtype: float64"
      ]
     },
     "execution_count": 232,
     "metadata": {},
     "output_type": "execute_result"
    }
   ],
   "source": [
    "100*arrests.groupby('PERP_SEX').size()/len(arrests)"
   ]
  },
  {
   "cell_type": "code",
   "execution_count": 233,
   "metadata": {},
   "outputs": [
    {
     "name": "stderr",
     "output_type": "stream",
     "text": [
      "C:\\Users\\nicol\\AppData\\Local\\Continuum\\anaconda3\\lib\\site-packages\\ipykernel_launcher.py:29: UserWarning: Matplotlib is currently using module://ipykernel.pylab.backend_inline, which is a non-GUI backend, so cannot show the figure.\n"
     ]
    },
    {
     "data": {
      "image/png": "[encoded data removed]",
      "text/plain": [
       "<Figure size 662.4x360 with 1 Axes>"
      ]
     },
     "metadata": {
      "needs_background": "light"
     },
     "output_type": "display_data"
    }
   ],
   "source": [
    "city_sex = [51.40, 48.60]#Male, Female\n",
    "transit_sex = [48.10, 51.90]\n",
    "arrests_sex = [88.797965, 11.202035]\n",
    "\n",
    "sexes = ['Male', 'Female']\n",
    "labels = ['City total', 'Transit commuters', 'Fare evasion arrestees']         \n",
    "sex_data = np.array([city_sex, transit_sex, arrests_sex]).T\n",
    "\n",
    "race_colors = [\"#dd6e42\",\"#e8dab2\",\"#4f6d7a\",\"#c0d6df\",\"#eaeaea\"]\n",
    "\n",
    "\n",
    "fig, ax = plt.subplots(figsize=(9.2, 5))\n",
    "ax.invert_yaxis()\n",
    "ax.xaxis.set_visible(False)\n",
    "ax.set_xlim(0, 100)\n",
    "ax.barh(labels, sex_data[0], label=sexes[0], color = race_colors[1])\n",
    "xlefts = sex_data[0]\n",
    "for y, (x, c) in enumerate(zip(xlefts/2, sex_data[0])):\n",
    "    ax.text(x, y, str(\"{:.1f}\".format(c)), ha='center', va='center',\n",
    "            color='black')\n",
    "ax.barh(labels, sex_data[1], label=sexes[1], left = sex_data[0], color = race_colors[2])\n",
    "xcenters = xlefts + sex_data[1]/2\n",
    "for y, (x, c) in enumerate(zip(xcenters, sex_data[1])):\n",
    "    ax.text(x, y, str(\"{:.1f}\".format(c)), ha='center', va='center',\n",
    "            color='white')\n",
    "\n",
    "ax.legend(ncol=len(ages), bbox_to_anchor=(0, 1),\n",
    "          loc='lower left', fontsize='medium')\n",
    "fig.show()\n",
    "fig.savefig('../figures/Sex.png', bbox_inches='tight')"
   ]
  },
  {
   "cell_type": "code",
   "execution_count": 8,
   "metadata": {},
   "outputs": [
    {
     "data": {
      "text/plain": [
       "JURISDICTION_CODE\n",
       "0.0     16.484049\n",
       "1.0     82.846974\n",
       "2.0      0.116652\n",
       "3.0      0.178518\n",
       "4.0      0.000373\n",
       "6.0      0.308214\n",
       "7.0      0.022734\n",
       "15.0     0.016398\n",
       "69.0     0.004100\n",
       "97.0     0.021989\n",
       "dtype: float64"
      ]
     },
     "execution_count": 8,
     "metadata": {},
     "output_type": "execute_result"
    }
   ],
   "source": [
    "100*arrests.groupby('JURISDICTION_CODE').size()/len(arrests)"
   ]
  },
  {
   "cell_type": "code",
   "execution_count": 9,
   "metadata": {},
   "outputs": [
    {
     "data": {
      "text/plain": [
       "PERP_SEX  PERP_RACE                       AGE_GROUP\n",
       "F         AMERICAN INDIAN/ALASKAN NATIVE  18-24        0.005590\n",
       "                                          25-44        0.010063\n",
       "                                          45-64        0.002982\n",
       "                                          <18          0.001491\n",
       "          ASIAN / PACIFIC ISLANDER        18-24        0.077147\n",
       "                                                         ...   \n",
       "M         WHITE HISPANIC                  18-24        9.213626\n",
       "                                          25-44        8.976968\n",
       "                                          45-64        2.662120\n",
       "                                          65+          0.033915\n",
       "                                          <18          2.516771\n",
       "Length: 79, dtype: float64"
      ]
     },
     "execution_count": 9,
     "metadata": {},
     "output_type": "execute_result"
    }
   ],
   "source": [
    "100*arrests.groupby(['PERP_SEX', 'PERP_RACE','AGE_GROUP']).size()/len(arrests)"
   ]
  },
  {
   "cell_type": "code",
   "execution_count": 10,
   "metadata": {},
   "outputs": [
    {
     "data": {
      "text/plain": [
       "<matplotlib.axes._subplots.AxesSubplot at 0x17d001e3ac8>"
      ]
     },
     "execution_count": 10,
     "metadata": {},
     "output_type": "execute_result"
    },
    {
     "data": {
      "image/png": "[encoded data removed]",
      "text/plain": [
       "<Figure size 432x288 with 1 Axes>"
      ]
     },
     "metadata": {
      "needs_background": "light"
     },
     "output_type": "display_data"
    }
   ],
   "source": [
    "arrests.groupby('ARREST_PRECINCT').size().hist(grid=False, bins=25)"
   ]
  },
  {
   "cell_type": "code",
   "execution_count": 11,
   "metadata": {},
   "outputs": [
    {
     "data": {
      "text/plain": [
       "ARREST_PRECINCT\n",
       "105        1\n",
       "45       229\n",
       "102      262\n",
       "66       350\n",
       "50       376\n",
       "       ...  \n",
       "75      9196\n",
       "25     10271\n",
       "44     11576\n",
       "40     15674\n",
       "14     27879\n",
       "Length: 69, dtype: int64"
      ]
     },
     "execution_count": 11,
     "metadata": {},
     "output_type": "execute_result"
    }
   ],
   "source": [
    "arrests.groupby('ARREST_PRECINCT').size().sort_values()"
   ]
  },
  {
   "cell_type": "code",
   "execution_count": 12,
   "metadata": {},
   "outputs": [
    {
     "ename": "NameError",
     "evalue": "name 'transit_arrests' is not defined",
     "output_type": "error",
     "traceback": [
      "\u001b[1;31m---------------------------------------------------------------------------\u001b[0m",
      "\u001b[1;31mNameError\u001b[0m                                 Traceback (most recent call last)",
      "\u001b[1;32m<ipython-input-12-39e2db5fbe1e>\u001b[0m in \u001b[0;36m<module>\u001b[1;34m\u001b[0m\n\u001b[1;32m----> 1\u001b[1;33m \u001b[1;36m100\u001b[0m\u001b[1;33m*\u001b[0m\u001b[0mtransit_arrests\u001b[0m\u001b[1;33m.\u001b[0m\u001b[0mgroupby\u001b[0m\u001b[1;33m(\u001b[0m\u001b[1;34m'PERP_SEX'\u001b[0m\u001b[1;33m)\u001b[0m\u001b[1;33m.\u001b[0m\u001b[0msize\u001b[0m\u001b[1;33m(\u001b[0m\u001b[1;33m)\u001b[0m\u001b[1;33m/\u001b[0m\u001b[0mlen\u001b[0m\u001b[1;33m(\u001b[0m\u001b[0mtransit_arrests\u001b[0m\u001b[1;33m)\u001b[0m\u001b[1;33m\u001b[0m\u001b[1;33m\u001b[0m\u001b[0m\n\u001b[0m",
      "\u001b[1;31mNameError\u001b[0m: name 'transit_arrests' is not defined"
     ]
    }
   ],
   "source": [
    "100*transit_arrests.groupby('PERP_SEX').size()/len(transit_arrests)"
   ]
  },
  {
   "cell_type": "code",
   "execution_count": null,
   "metadata": {},
   "outputs": [],
   "source": [
    "arrests['ARREST_DATE']= pd.to_datetime(arrests.ARREST_DATE)"
   ]
  },
  {
   "cell_type": "code",
   "execution_count": null,
   "metadata": {},
   "outputs": [],
   "source": [
    "arrests.resample('Y', on='ARREST_DATE').size().plot()"
   ]
  },
  {
   "cell_type": "code",
   "execution_count": null,
   "metadata": {},
   "outputs": [],
   "source": [
    "arrests.groupby('ARREST_BORO').resample('Y', on='ARREST_DATE').size().transpose().plot()"
   ]
  },
  {
   "cell_type": "code",
   "execution_count": null,
   "metadata": {},
   "outputs": [],
   "source": [
    "borough_bound = gpd.read_file('../data/Borough Boundaries/geo_export_41525217-5b67-4551-bc27-812c6d74e598.shp')\n",
    "subway_lines = gpd.read_file('../data/Subway Lines/geo_export_0bf20305-3c1e-4a7b-b2c2-36e2d97e538a.shp')"
   ]
  },
  {
   "cell_type": "code",
   "execution_count": null,
   "metadata": {},
   "outputs": [],
   "source": [
    "gp_arrests = gp_arrests = gpd.GeoDataFrame(arrests[['ARREST_KEY', 'Latitude', 'Longitude', 'JURISDICTION_CODE']], geometry= [Point(x, y) for x, y in zip(arrests.Longitude, arrests.Latitude)])"
   ]
  },
  {
   "cell_type": "code",
   "execution_count": null,
   "metadata": {},
   "outputs": [],
   "source": [
    "fig, ax = plt.subplots(figsize=(10,15))\n",
    "ax.set_aspect('equal')\n",
    "ax.set_xlim((-74.05, -73.75))\n",
    "ax.set_ylim((40.54, 40.92))\n",
    "\n",
    "borough_bound.plot(ax = ax, alpha=0.5, edgecolor='k',color='white')\n",
    "subway_lines.plot(ax = ax, alpha=1)\n",
    "gp_arrests.plot(ax = ax, color='k', markersize=8)"
   ]
  },
  {
   "cell_type": "code",
   "execution_count": 6,
   "metadata": {},
   "outputs": [
    {
     "data": {
      "text/plain": [
       "ARREST_DATE\n",
       "2014-12-31    27029\n",
       "2015-12-31    27134\n",
       "2016-12-31    24620\n",
       "2017-12-31    17660\n",
       "2018-12-31     5994\n",
       "Freq: A-DEC, dtype: int64"
      ]
     },
     "execution_count": 6,
     "metadata": {},
     "output_type": "execute_result"
    }
   ],
   "source": [
    "arrests.resample('Y', on='ARREST_DATE').size().iloc[4:]#.sum()"
   ]
  },
  {
   "cell_type": "code",
   "execution_count": 8,
   "metadata": {},
   "outputs": [
    {
     "data": {
      "image/png": "[encoded data removed]",
      "text/plain": [
       "<Figure size 432x288 with 1 Axes>"
      ]
     },
     "metadata": {
      "needs_background": "light"
     },
     "output_type": "display_data"
    }
   ],
   "source": [
    "fig, ax = plt.subplots()\n",
    "arrests.resample('Y', on='ARREST_DATE').size().plot(ax=ax, color=\"#4f6d7a\")\n",
    "ax.set_ylabel('Arrests')\n",
    "ax.set_xlabel('Year')\n",
    "ax.spines['top'].set_visible(False)\n",
    "ax.spines['right'].set_visible(False)\n",
    "\n",
    "fig.savefig('../figures/Arrests_per_year.png', bboxinches='tight')\n"
   ]
  },
  {
   "cell_type": "code",
   "execution_count": null,
   "metadata": {},
   "outputs": [],
   "source": []
  }
 ],
 "metadata": {
  "kernelspec": {
   "display_name": "Python 3",
   "language": "python",
   "name": "python3"
  },
  "language_info": {
   "codemirror_mode": {
    "name": "ipython",
    "version": 3
   },
   "file_extension": ".py",
   "mimetype": "text/x-python",
   "name": "python",
   "nbconvert_exporter": "python",
   "pygments_lexer": "ipython3",
   "version": "3.7.3"
  }
 },
 "nbformat": 4,
 "nbformat_minor": 2
}
